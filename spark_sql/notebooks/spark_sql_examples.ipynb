{
 "cells": [
  {
   "cell_type": "markdown",
   "metadata": {},
   "source": [
    "# Spark SQL\n",
    "\n",
    "Before you begin, make sure that you've installed spark of version `2.3` or higher (see `README.md`)\n",
    "\n",
    "**Links**\n",
    "\n",
    "* https://spark.apache.org/docs/latest/sql-getting-started.html"
   ]
  },
  {
   "cell_type": "code",
   "execution_count": 1,
   "metadata": {},
   "outputs": [
    {
     "name": "stdout",
     "output_type": "stream",
     "text": [
      "/workspace/spark_sql/notebooks\r\n",
      "-rw-rw-r-- 1 1000 1002 1.2K Feb  3 09:26 README.md\r\n"
     ]
    }
   ],
   "source": [
    "!pwd && ls -lah | grep README"
   ]
  },
  {
   "cell_type": "markdown",
   "metadata": {},
   "source": [
    "## Запуск spark"
   ]
  },
  {
   "cell_type": "code",
   "execution_count": 2,
   "metadata": {},
   "outputs": [],
   "source": [
    "%matplotlib inline\n",
    "%config InlineBackend.figure_format ='retina'\n",
    "\n",
    "import os\n",
    "import sys\n",
    "import glob\n",
    "import pickle\n",
    "import seaborn as sns\n",
    "import matplotlib.pyplot as plt\n",
    "\n",
    "import pyspark\n",
    "from pyspark.conf import SparkConf\n",
    "from pyspark.sql import SQLContext\n",
    "from pyspark.sql import SparkSession\n",
    "\n",
    "\n",
    "spark = SparkSession \\\n",
    "    .builder \\\n",
    "    .master('local[*]') \\\n",
    "    .appName(\"spark_sql_examples\") \\\n",
    "    .config(\"spark.executor.memory\", \"48g\") \\\n",
    "    .config(\"spark.driver.memory\", \"48g\") \\\n",
    "    .config(\"spark.local.dir\", \"/spark/\") \\\n",
    "    .getOrCreate()\n",
    "\n",
    "sc = spark.sparkContext\n",
    "sqlContext = SQLContext(sc)"
   ]
  },
  {
   "cell_type": "code",
   "execution_count": 3,
   "metadata": {},
   "outputs": [],
   "source": [
    "DATA_PATH = '/workspace/data/ml-25m'\n",
    "\n",
    "RATINGS_PATH = os.path.join(DATA_PATH, 'ratings.csv')\n",
    "MOVIES_PATH = os.path.join(DATA_PATH, 'movies.csv')\n",
    "TAGS_PATH = os.path.join(DATA_PATH, 'tags.csv')"
   ]
  },
  {
   "cell_type": "markdown",
   "metadata": {},
   "source": [
    "---\n",
    "## DataFrame creation\n",
    "\n",
    "DataFrame можно создать несколькими способами:\n",
    "\n",
    "* из файла\n",
    "* из существующего RDD\n",
    "* из другого DataFrame'a\n",
    "\n",
    "### From file\n",
    "\n",
    "В случае с созданием из csv файла, может понадобится указать схему"
   ]
  },
  {
   "cell_type": "code",
   "execution_count": 4,
   "metadata": {},
   "outputs": [],
   "source": [
    "from pyspark.sql.types import *\n",
    "\n",
    "\n",
    "schema = StructType([\n",
    "    StructField('user_id', IntegerType()),\n",
    "    StructField('movie_id', IntegerType()),\n",
    "    StructField('rating', FloatType()),\n",
    "    StructField('timestamp', IntegerType())\n",
    "])\n",
    "\n",
    "ratings_df = sqlContext.read \\\n",
    "    .format('com.databricks.spark.csv') \\\n",
    "    .schema(schema) \\\n",
    "    .options(header='true', delimiter=',') \\\n",
    "    .load('file:///' + RATINGS_PATH)"
   ]
  },
  {
   "cell_type": "code",
   "execution_count": 5,
   "metadata": {},
   "outputs": [
    {
     "name": "stdout",
     "output_type": "stream",
     "text": [
      "root\n",
      " |-- user_id: integer (nullable = true)\n",
      " |-- movie_id: integer (nullable = true)\n",
      " |-- rating: float (nullable = true)\n",
      " |-- timestamp: integer (nullable = true)\n",
      "\n"
     ]
    }
   ],
   "source": [
    "ratings_df.printSchema()"
   ]
  },
  {
   "cell_type": "code",
   "execution_count": 6,
   "metadata": {},
   "outputs": [
    {
     "data": {
      "text/plain": [
       "[Row(user_id=1, movie_id=296, rating=5.0, timestamp=1147880044),\n",
       " Row(user_id=1, movie_id=306, rating=3.5, timestamp=1147868817),\n",
       " Row(user_id=1, movie_id=307, rating=5.0, timestamp=1147868828),\n",
       " Row(user_id=1, movie_id=665, rating=5.0, timestamp=1147878820),\n",
       " Row(user_id=1, movie_id=899, rating=3.5, timestamp=1147868510)]"
      ]
     },
     "execution_count": 6,
     "metadata": {},
     "output_type": "execute_result"
    }
   ],
   "source": [
    "ratings_df.take(5)"
   ]
  },
  {
   "cell_type": "markdown",
   "metadata": {},
   "source": [
    "### From RDD\n",
    "\n",
    "Для того чтобы построить DataFrame из RDD нужно у RDD вызвать метод `toDF`.\n",
    "\n",
    "*Remark:* RDD можно получить из DataFrame с помощью аттрибута `rdd`."
   ]
  },
  {
   "cell_type": "code",
   "execution_count": 7,
   "metadata": {},
   "outputs": [],
   "source": [
    "ratings = sc.textFile('file:///' + RATINGS_PATH)"
   ]
  },
  {
   "cell_type": "code",
   "execution_count": 8,
   "metadata": {},
   "outputs": [
    {
     "data": {
      "text/plain": [
       "['userId,movieId,rating,timestamp',\n",
       " '1,296,5.0,1147880044',\n",
       " '1,306,3.5,1147868817',\n",
       " '1,307,5.0,1147868828',\n",
       " '1,665,5.0,1147878820']"
      ]
     },
     "execution_count": 8,
     "metadata": {},
     "output_type": "execute_result"
    }
   ],
   "source": [
    "ratings.take(5)"
   ]
  },
  {
   "cell_type": "code",
   "execution_count": 9,
   "metadata": {},
   "outputs": [],
   "source": [
    "from pyspark.sql import Row\n",
    "\n",
    "\n",
    "ratings_df = ratings \\\n",
    "    .map(lambda s: s.split(',')) \\\n",
    "    .filter(lambda arr: arr[0].isdigit()) \\\n",
    "    .map(lambda arr: Row(user_id=int(arr[0]), \n",
    "                         movie_id=int(arr[1]), \n",
    "                         rating=float(arr[2]), \n",
    "                         timestamp=int(arr[3])))\\\n",
    "    .toDF()"
   ]
  },
  {
   "cell_type": "code",
   "execution_count": 10,
   "metadata": {},
   "outputs": [
    {
     "name": "stdout",
     "output_type": "stream",
     "text": [
      "root\n",
      " |-- movie_id: long (nullable = true)\n",
      " |-- rating: double (nullable = true)\n",
      " |-- timestamp: long (nullable = true)\n",
      " |-- user_id: long (nullable = true)\n",
      "\n"
     ]
    }
   ],
   "source": [
    "ratings_df.printSchema()"
   ]
  },
  {
   "cell_type": "markdown",
   "metadata": {},
   "source": [
    "---\n",
    "## DataFrame API"
   ]
  },
  {
   "cell_type": "code",
   "execution_count": 11,
   "metadata": {},
   "outputs": [],
   "source": [
    "import pyspark.sql.functions as F\n",
    "\n",
    "\n",
    "movies_df = sqlContext.read.format(\"com.databricks.spark.csv\") \\\n",
    "    .option(\"delimiter\", \",\") \\\n",
    "    .option(\"header\", \"true\") \\\n",
    "    .option(\"inferSchema\", \"true\") \\\n",
    "    .load('file:///' + MOVIES_PATH)"
   ]
  },
  {
   "cell_type": "code",
   "execution_count": 12,
   "metadata": {},
   "outputs": [
    {
     "name": "stdout",
     "output_type": "stream",
     "text": [
      "root\n",
      " |-- movieId: integer (nullable = true)\n",
      " |-- title: string (nullable = true)\n",
      " |-- genres: string (nullable = true)\n",
      "\n"
     ]
    }
   ],
   "source": [
    "movies_df.printSchema()"
   ]
  },
  {
   "cell_type": "markdown",
   "metadata": {},
   "source": [
    "### Фильмы с наибольшим средним рейтингом\n",
    "\n",
    "Найти 10 фильмов с наибольшим средним рейтингом. Вывести их названия и средний рейтинг.\n",
    "\n",
    "Сравните код ниже с кодом, использующим RDD API (см. `apache_spark/notebooks/spark_examples.ipynb`):\n",
    "\n",
    "```\n",
    "ratings \\\n",
    "    .map(lambda r: (r.movie_id, (r.rating, 1))) \\\n",
    "    .reduceByKey(lambda a, b: (a[0] + b[0], a[1] + b[1])) \\\n",
    "    .mapValues(lambda ratings: ratings[0] / ratings[1]) \\\n",
    "    .join(movies) \\\n",
    "    .sortBy(lambda key_value: key_value[1][0], ascending=False) \\\n",
    "    .take(10)\n",
    "```"
   ]
  },
  {
   "cell_type": "code",
   "execution_count": 13,
   "metadata": {},
   "outputs": [
    {
     "data": {
      "text/plain": [
       "[Row(movie_id=175727, mean_rating=5.0, ratings_count=1, movieId=175727, title='Cure for Pain: The Mark Sandman Story (2011)', genres='Documentary'),\n",
       " Row(movie_id=179685, mean_rating=5.0, ratings_count=1, movieId=179685, title='Keep My Grave Open (1976)', genres='Horror'),\n",
       " Row(movie_id=192415, mean_rating=5.0, ratings_count=1, movieId=192415, title='Last Hours in Suburbia (2012)', genres='Crime|Mystery|Thriller'),\n",
       " Row(movie_id=142160, mean_rating=5.0, ratings_count=1, movieId=142160, title='Carlos Spills the Beans (2014)', genres='Children|Comedy|Drama'),\n",
       " Row(movie_id=144208, mean_rating=5.0, ratings_count=1, movieId=144208, title='Bicycle Dreams (2009)', genres='Adventure|Documentary'),\n",
       " Row(movie_id=175083, mean_rating=5.0, ratings_count=1, movieId=175083, title='Look at Me (2012)', genres='Comedy|Drama|Romance'),\n",
       " Row(movie_id=139453, mean_rating=5.0, ratings_count=1, movieId=139453, title='Hide (2011)', genres='Horror'),\n",
       " Row(movie_id=173179, mean_rating=5.0, ratings_count=1, movieId=173179, title='Alluda Majaka (1995)', genres='(no genres listed)'),\n",
       " Row(movie_id=174787, mean_rating=5.0, ratings_count=1, movieId=174787, title='Kino-pravda no. 9 (1922)', genres='(no genres listed)'),\n",
       " Row(movie_id=149210, mean_rating=5.0, ratings_count=1, movieId=149210, title='La Cambiale (1959)', genres='Comedy')]"
      ]
     },
     "execution_count": 13,
     "metadata": {},
     "output_type": "execute_result"
    }
   ],
   "source": [
    "ratings_df \\\n",
    "    .groupby('movie_id') \\\n",
    "    .agg(F.mean('rating').alias('mean_rating'), \n",
    "         F.count('rating').alias('ratings_count')) \\\n",
    "    .join(movies_df, ratings_df['movie_id'] == movies_df['movieId'], how='inner') \\\n",
    "    .sort(F.col('mean_rating').desc()) \\\n",
    "    .take(10)"
   ]
  },
  {
   "cell_type": "markdown",
   "metadata": {},
   "source": [
    "### Фильмы с наибольшим числом оценок\n",
    "\n",
    "Найти 10 фильмов с наибольшим числом оценок. Вывести их названия и число оценок"
   ]
  },
  {
   "cell_type": "code",
   "execution_count": 14,
   "metadata": {},
   "outputs": [],
   "source": [
    "movies_frequency_pdf = ratings_df \\\n",
    "    .groupby('movie_id') \\\n",
    "    .count() \\\n",
    "    .join(movies_df, ratings_df['movie_id'] == movies_df['movieId']) \\\n",
    "    .sort(F.col('count').desc()) \\\n",
    "    .toPandas()"
   ]
  },
  {
   "cell_type": "code",
   "execution_count": 15,
   "metadata": {},
   "outputs": [
    {
     "data": {
      "text/html": [
       "<div>\n",
       "<style scoped>\n",
       "    .dataframe tbody tr th:only-of-type {\n",
       "        vertical-align: middle;\n",
       "    }\n",
       "\n",
       "    .dataframe tbody tr th {\n",
       "        vertical-align: top;\n",
       "    }\n",
       "\n",
       "    .dataframe thead th {\n",
       "        text-align: right;\n",
       "    }\n",
       "</style>\n",
       "<table border=\"1\" class=\"dataframe\">\n",
       "  <thead>\n",
       "    <tr style=\"text-align: right;\">\n",
       "      <th></th>\n",
       "      <th>movie_id</th>\n",
       "      <th>count</th>\n",
       "      <th>movieId</th>\n",
       "      <th>title</th>\n",
       "      <th>genres</th>\n",
       "    </tr>\n",
       "  </thead>\n",
       "  <tbody>\n",
       "    <tr>\n",
       "      <th>0</th>\n",
       "      <td>356</td>\n",
       "      <td>81491</td>\n",
       "      <td>356</td>\n",
       "      <td>Forrest Gump (1994)</td>\n",
       "      <td>Comedy|Drama|Romance|War</td>\n",
       "    </tr>\n",
       "    <tr>\n",
       "      <th>1</th>\n",
       "      <td>318</td>\n",
       "      <td>81482</td>\n",
       "      <td>318</td>\n",
       "      <td>Shawshank Redemption, The (1994)</td>\n",
       "      <td>Crime|Drama</td>\n",
       "    </tr>\n",
       "    <tr>\n",
       "      <th>2</th>\n",
       "      <td>296</td>\n",
       "      <td>79672</td>\n",
       "      <td>296</td>\n",
       "      <td>Pulp Fiction (1994)</td>\n",
       "      <td>Comedy|Crime|Drama|Thriller</td>\n",
       "    </tr>\n",
       "    <tr>\n",
       "      <th>3</th>\n",
       "      <td>593</td>\n",
       "      <td>74127</td>\n",
       "      <td>593</td>\n",
       "      <td>Silence of the Lambs, The (1991)</td>\n",
       "      <td>Crime|Horror|Thriller</td>\n",
       "    </tr>\n",
       "    <tr>\n",
       "      <th>4</th>\n",
       "      <td>2571</td>\n",
       "      <td>72674</td>\n",
       "      <td>2571</td>\n",
       "      <td>Matrix, The (1999)</td>\n",
       "      <td>Action|Sci-Fi|Thriller</td>\n",
       "    </tr>\n",
       "    <tr>\n",
       "      <th>5</th>\n",
       "      <td>260</td>\n",
       "      <td>68717</td>\n",
       "      <td>260</td>\n",
       "      <td>Star Wars: Episode IV - A New Hope (1977)</td>\n",
       "      <td>Action|Adventure|Sci-Fi</td>\n",
       "    </tr>\n",
       "    <tr>\n",
       "      <th>6</th>\n",
       "      <td>480</td>\n",
       "      <td>64144</td>\n",
       "      <td>480</td>\n",
       "      <td>Jurassic Park (1993)</td>\n",
       "      <td>Action|Adventure|Sci-Fi|Thriller</td>\n",
       "    </tr>\n",
       "    <tr>\n",
       "      <th>7</th>\n",
       "      <td>527</td>\n",
       "      <td>60411</td>\n",
       "      <td>527</td>\n",
       "      <td>Schindler's List (1993)</td>\n",
       "      <td>Drama|War</td>\n",
       "    </tr>\n",
       "    <tr>\n",
       "      <th>8</th>\n",
       "      <td>110</td>\n",
       "      <td>59184</td>\n",
       "      <td>110</td>\n",
       "      <td>Braveheart (1995)</td>\n",
       "      <td>Action|Drama|War</td>\n",
       "    </tr>\n",
       "    <tr>\n",
       "      <th>9</th>\n",
       "      <td>2959</td>\n",
       "      <td>58773</td>\n",
       "      <td>2959</td>\n",
       "      <td>Fight Club (1999)</td>\n",
       "      <td>Action|Crime|Drama|Thriller</td>\n",
       "    </tr>\n",
       "  </tbody>\n",
       "</table>\n",
       "</div>"
      ],
      "text/plain": [
       "   movie_id  count  movieId                                      title  \\\n",
       "0       356  81491      356                        Forrest Gump (1994)   \n",
       "1       318  81482      318           Shawshank Redemption, The (1994)   \n",
       "2       296  79672      296                        Pulp Fiction (1994)   \n",
       "3       593  74127      593           Silence of the Lambs, The (1991)   \n",
       "4      2571  72674     2571                         Matrix, The (1999)   \n",
       "5       260  68717      260  Star Wars: Episode IV - A New Hope (1977)   \n",
       "6       480  64144      480                       Jurassic Park (1993)   \n",
       "7       527  60411      527                    Schindler's List (1993)   \n",
       "8       110  59184      110                          Braveheart (1995)   \n",
       "9      2959  58773     2959                          Fight Club (1999)   \n",
       "\n",
       "                             genres  \n",
       "0          Comedy|Drama|Romance|War  \n",
       "1                       Crime|Drama  \n",
       "2       Comedy|Crime|Drama|Thriller  \n",
       "3             Crime|Horror|Thriller  \n",
       "4            Action|Sci-Fi|Thriller  \n",
       "5           Action|Adventure|Sci-Fi  \n",
       "6  Action|Adventure|Sci-Fi|Thriller  \n",
       "7                         Drama|War  \n",
       "8                  Action|Drama|War  \n",
       "9       Action|Crime|Drama|Thriller  "
      ]
     },
     "execution_count": 15,
     "metadata": {},
     "output_type": "execute_result"
    }
   ],
   "source": [
    "movies_frequency_pdf.head(10)"
   ]
  },
  {
   "cell_type": "markdown",
   "metadata": {},
   "source": [
    "---\n",
    "## SQL"
   ]
  },
  {
   "cell_type": "code",
   "execution_count": 16,
   "metadata": {},
   "outputs": [],
   "source": [
    "ratings_df.createTempView('ratings')\n",
    "movies_df.createTempView('movies')"
   ]
  },
  {
   "cell_type": "code",
   "execution_count": 17,
   "metadata": {},
   "outputs": [
    {
     "name": "stdout",
     "output_type": "stream",
     "text": [
      "+--------+--------+--------------------+\n",
      "|movie_id|count(1)|               title|\n",
      "+--------+--------+--------------------+\n",
      "|     356|   81491| Forrest Gump (1994)|\n",
      "|     318|   81482|Shawshank Redempt...|\n",
      "|     296|   79672| Pulp Fiction (1994)|\n",
      "|     364|   42745|Lion King, The (1...|\n",
      "|     380|   41673|    True Lies (1994)|\n",
      "|     377|   41302|        Speed (1994)|\n",
      "|     344|   37453|Ace Ventura: Pet ...|\n",
      "|     367|   34621|    Mask, The (1994)|\n",
      "|     293|   33680|Léon: The Profess...|\n",
      "|     231|   31843|Dumb & Dumber (Du...|\n",
      "|     316|   30910|     Stargate (1994)|\n",
      "|     349|   27766|Clear and Present...|\n",
      "|     253|   27577|Interview with th...|\n",
      "|     357|   26709|Four Weddings and...|\n",
      "|     329|   24615|Star Trek: Genera...|\n",
      "|     223|   24050|       Clerks (1994)|\n",
      "|     288|   23259|Natural Born Kill...|\n",
      "|     300|   18997|    Quiz Show (1994)|\n",
      "|     368|   16475|     Maverick (1994)|\n",
      "|     353|   16219|    Crow, The (1994)|\n",
      "+--------+--------+--------------------+\n",
      "only showing top 20 rows\n",
      "\n"
     ]
    }
   ],
   "source": [
    "query = \"\"\"\n",
    "    SELECT movie_id, COUNT(*), first(title) as title\n",
    "    FROM ratings INNER JOIN movies ON ratings.movie_id == movies.movieId\n",
    "    WHERE movies.title LIKE '%(1994)%'\n",
    "    GROUP BY movie_id\n",
    "    ORDER BY COUNT(*) DESC\n",
    "\"\"\"\n",
    "\n",
    "movies_frequency = spark.sql(query)\n",
    "movies_frequency.show()"
   ]
  },
  {
   "cell_type": "code",
   "execution_count": 18,
   "metadata": {
    "scrolled": false
   },
   "outputs": [
    {
     "name": "stdout",
     "output_type": "stream",
     "text": [
      "== Parsed Logical Plan ==\n",
      "'Sort ['COUNT(1) DESC NULLS LAST], true\n",
      "+- 'Aggregate ['movie_id], ['movie_id, unresolvedalias('COUNT(1), None), first('title, false) AS title#131]\n",
      "   +- 'Filter 'movies.title LIKE %(1994)%\n",
      "      +- 'Join Inner, ('ratings.movie_id = 'movies.movieId)\n",
      "         :- 'UnresolvedRelation `ratings`\n",
      "         +- 'UnresolvedRelation `movies`\n",
      "\n",
      "== Analyzed Logical Plan ==\n",
      "movie_id: bigint, count(1): bigint, title: string\n",
      "Project [movie_id#12L, count(1)#134L, title#131]\n",
      "+- Sort [count(1)#134L DESC NULLS LAST], true\n",
      "   +- Aggregate [movie_id#12L], [movie_id#12L, count(1) AS count(1)#134L, first(title#31, false) AS title#131]\n",
      "      +- Filter title#31 LIKE %(1994)%\n",
      "         +- Join Inner, (movie_id#12L = cast(movieId#30 as bigint))\n",
      "            :- SubqueryAlias `ratings`\n",
      "            :  +- LogicalRDD [movie_id#12L, rating#13, timestamp#14L, user_id#15L], false\n",
      "            +- SubqueryAlias `movies`\n",
      "               +- Relation[movieId#30,title#31,genres#32] csv\n",
      "\n",
      "== Optimized Logical Plan ==\n",
      "Sort [count(1)#134L DESC NULLS LAST], true\n",
      "+- Aggregate [movie_id#12L], [movie_id#12L, count(1) AS count(1)#134L, first(title#31, false) AS title#131]\n",
      "   +- Project [movie_id#12L, title#31]\n",
      "      +- Join Inner, (movie_id#12L = cast(movieId#30 as bigint))\n",
      "         :- Project [movie_id#12L]\n",
      "         :  +- Filter isnotnull(movie_id#12L)\n",
      "         :     +- LogicalRDD [movie_id#12L, rating#13, timestamp#14L, user_id#15L], false\n",
      "         +- Project [movieId#30, title#31]\n",
      "            +- Filter ((isnotnull(title#31) && Contains(title#31, (1994))) && isnotnull(movieId#30))\n",
      "               +- Relation[movieId#30,title#31,genres#32] csv\n",
      "\n",
      "== Physical Plan ==\n",
      "*(4) Sort [count(1)#134L DESC NULLS LAST], true, 0\n",
      "+- Exchange rangepartitioning(count(1)#134L DESC NULLS LAST, 200)\n",
      "   +- SortAggregate(key=[movie_id#12L], functions=[count(1), first(title#31, false)], output=[movie_id#12L, count(1)#134L, title#131])\n",
      "      +- *(3) Sort [movie_id#12L ASC NULLS FIRST], false, 0\n",
      "         +- Exchange hashpartitioning(movie_id#12L, 200)\n",
      "            +- SortAggregate(key=[movie_id#12L], functions=[partial_count(1), partial_first(title#31, false)], output=[movie_id#12L, count#142L, first#143, valueSet#144])\n",
      "               +- *(2) Sort [movie_id#12L ASC NULLS FIRST], false, 0\n",
      "                  +- *(2) Project [movie_id#12L, title#31]\n",
      "                     +- *(2) BroadcastHashJoin [movie_id#12L], [cast(movieId#30 as bigint)], Inner, BuildRight\n",
      "                        :- *(2) Project [movie_id#12L]\n",
      "                        :  +- *(2) Filter isnotnull(movie_id#12L)\n",
      "                        :     +- Scan ExistingRDD[movie_id#12L,rating#13,timestamp#14L,user_id#15L]\n",
      "                        +- BroadcastExchange HashedRelationBroadcastMode(List(cast(input[0, int, true] as bigint)))\n",
      "                           +- *(1) Project [movieId#30, title#31]\n",
      "                              +- *(1) Filter ((isnotnull(title#31) && Contains(title#31, (1994))) && isnotnull(movieId#30))\n",
      "                                 +- *(1) FileScan csv [movieId#30,title#31] Batched: false, Format: CSV, Location: InMemoryFileIndex[file:/workspace/data/ml-25m/movies.csv], PartitionFilters: [], PushedFilters: [IsNotNull(title), StringContains(title,(1994)), IsNotNull(movieId)], ReadSchema: struct<movieId:int,title:string>\n"
     ]
    }
   ],
   "source": [
    "spark.sql(query).explain(True)"
   ]
  },
  {
   "cell_type": "markdown",
   "metadata": {},
   "source": [
    "---\n",
    "## User Defined Function (UDF)\n",
    "\n",
    "\n",
    "### Количество вышедших фильмов по годам\n",
    "\n",
    "Мы знаем, что название фильма содержит информацию о дате выхода"
   ]
  },
  {
   "cell_type": "code",
   "execution_count": 19,
   "metadata": {},
   "outputs": [],
   "source": [
    "import re\n",
    "\n",
    "\n",
    "def get_release_year(title):\n",
    "    result = re.match(r'.*(\\(\\d+\\))', title)\n",
    "    return int(result.group(1)[1:-1]) if result is not None else None\n",
    "\n",
    "\n",
    "get_release_year_udf = F.udf(get_release_year, IntegerType())"
   ]
  },
  {
   "cell_type": "code",
   "execution_count": 20,
   "metadata": {},
   "outputs": [],
   "source": [
    "relase_count_by_year = movies_df \\\n",
    "    .withColumn('year', get_release_year_udf('title')) \\\n",
    "    .filter(F.col('year').isNotNull()) \\\n",
    "    .groupby('year') \\\n",
    "    .count() \\\n",
    "    .sort(F.col('year').desc()) \\\n",
    "    .toPandas()"
   ]
  },
  {
   "cell_type": "code",
   "execution_count": 21,
   "metadata": {},
   "outputs": [
    {
     "data": {
      "image/png": "[encoded data removed]",
      "text/plain": [
       "<Figure size 864x360 with 1 Axes>"
      ]
     },
     "metadata": {
      "image/png": {
       "height": 317,
       "width": 718
      },
      "needs_background": "light"
     },
     "output_type": "display_data"
    }
   ],
   "source": [
    "plt.figure(figsize=(12, 5))\n",
    "relase_count_by_year.set_index('year')['count'].plot()\n",
    "plt.show()"
   ]
  },
  {
   "cell_type": "markdown",
   "metadata": {},
   "source": [
    "---\n",
    "## Window Functions\n",
    "\n",
    "Хотим понять, сколько времени проходит между последовательными оценками для пользователей, более формально:\n",
    "\n",
    "Для пользователя $u$ есть последовательность $(m_1, r_1, t_1), \\ldots, (m_n, r_n, t_n)$, где $t_i \\leq t_{i+1}$. Рассмотрим последовательность $\\Delta_i = t_{i+1} - t_i$, для $i=1,\\ldots,n-1$.\n",
    "\n",
    "Хотим построить распределение величины $\\Delta_i$ используя информацию обо всех пользователях."
   ]
  },
  {
   "cell_type": "code",
   "execution_count": 22,
   "metadata": {},
   "outputs": [
    {
     "data": {
      "text/plain": [
       "[Row(movie_id=2161, rating=3.5, timestamp=1280513623, user_id=26, next_timestamp=1280513649),\n",
       " Row(movie_id=455, rating=3.0, timestamp=1280513649, user_id=26, next_timestamp=1280513679),\n",
       " Row(movie_id=1037, rating=2.5, timestamp=1280513679, user_id=26, next_timestamp=1280513702),\n",
       " Row(movie_id=1586, rating=3.0, timestamp=1280513702, user_id=26, next_timestamp=1280513710),\n",
       " Row(movie_id=54286, rating=4.0, timestamp=1280513710, user_id=26, next_timestamp=1280513785),\n",
       " Row(movie_id=4023, rating=3.0, timestamp=1280513785, user_id=26, next_timestamp=1280513802),\n",
       " Row(movie_id=54503, rating=2.0, timestamp=1280513802, user_id=26, next_timestamp=1280513817),\n",
       " Row(movie_id=3173, rating=3.5, timestamp=1280513817, user_id=26, next_timestamp=1280513893),\n",
       " Row(movie_id=53322, rating=4.0, timestamp=1280513893, user_id=26, next_timestamp=1280513897),\n",
       " Row(movie_id=2764, rating=4.5, timestamp=1280513897, user_id=26, next_timestamp=1280513931)]"
      ]
     },
     "execution_count": 22,
     "metadata": {},
     "output_type": "execute_result"
    }
   ],
   "source": [
    "from pyspark.sql.window import Window\n",
    "\n",
    "\n",
    "user_window = Window.orderBy('timestamp').partitionBy('user_id')\n",
    "\n",
    "ratings_df \\\n",
    "    .withColumn('next_timestamp', F.lead('timestamp').over(user_window)) \\\n",
    "    .filter(F.col('next_timestamp').isNotNull()) \\\n",
    "    .take(10)"
   ]
  },
  {
   "cell_type": "code",
   "execution_count": 23,
   "metadata": {},
   "outputs": [
    {
     "data": {
      "text/plain": [
       "<matplotlib.axes._subplots.AxesSubplot at 0x7fef57ee71d0>"
      ]
     },
     "execution_count": 23,
     "metadata": {},
     "output_type": "execute_result"
    },
    {
     "data": {
      "image/png": "[encoded data removed]",
      "text/plain": [
       "<Figure size 432x288 with 1 Axes>"
      ]
     },
     "metadata": {
      "image/png": {
       "height": 250,
       "width": 389
      },
      "needs_background": "light"
     },
     "output_type": "display_data"
    }
   ],
   "source": [
    "DAY = 24 * 60 * 60\n",
    "\n",
    "ratings_df \\\n",
    "    .withColumn('next_timestamp', F.lead('timestamp').over(user_window)) \\\n",
    "    .filter(F.col('next_timestamp').isNotNull()) \\\n",
    "    .withColumn('delta', (F.col('next_timestamp') - F.col('timestamp')) / F.lit(DAY)) \\\n",
    "    .select('delta') \\\n",
    "    .filter(F.col('delta') <= 365) \\\n",
    "    .sample(False, 0.1) \\\n",
    "    .toPandas().plot.hist(bins=100, logy=True)"
   ]
  },
  {
   "cell_type": "markdown",
   "metadata": {},
   "source": [
    "---\n",
    "# Упражнения. Recommender System\n",
    "\n",
    "Пусть $U$ - множество пользователей, $I$ - множество фильмов, и $R = (r_{ui})$ - матрица рейтингов. \n",
    "\n",
    "Через $R_u$ будем обозначать строку матрицы $R$, соотвествующую пользователю $u$.\n",
    "\n",
    "## Most similar items\n",
    "\n",
    "Для каждого фильма $i$ определим множество $U(i) = \\{ u \\in U \\mid r_{ui} \\neq 0 \\}$ - множество пользователей, поставивших фильму $i$ оценку.\n",
    "\n",
    "Тогда мы можем определить множество $I(i) = \\left\\{ i' \\in I ~\\Big|~ sim(i, i') = \\frac{|U(i) ~\\cap~ U(i')|}{|U(i) ~\\cup~ U(i')|} > \\delta \\right\\}$ - множество похожих фильмов.\n",
    "\n",
    "Можно отсортировать элементы множества $I(i)$ по неубыванию $sim(i, i')$.\n",
    "\n",
    "Реализуйте функцию, которая на вход получает `movie_id` и возвращает топ `N` фильмов отранжированных по $sim$."
   ]
  },
  {
   "cell_type": "code",
   "execution_count": 24,
   "metadata": {},
   "outputs": [],
   "source": [
    "def get_movie_sim(ratings_df):\n",
    "    movie_users_df = ratings_df \\\n",
    "        .groupby('movie_id') \\\n",
    "        .agg(F.count('user_id').alias('n_users')) \\\n",
    "        .cache()\n",
    "        \n",
    "    movie_movie_df = ratings_df.alias('r1') \\\n",
    "        .join(ratings_df.alias('r2'), F.col('r1.user_id') == F.col('r2.user_id')) \\\n",
    "        .groupby(F.col('r1.movie_id').alias('movie_id1'), F.col('r2.movie_id').alias('movie_id2')) \\\n",
    "        .agg(F.count('r1.user_id').alias('n_users')) \\\n",
    "        .cache()\n",
    "\n",
    "    movie_movie_sim_df = movie_movie_df.alias('n0') \\\n",
    "        .join(movie_users_df.alias('n1'), movie_movie_df['movie_id1'] == F.col('n1.movie_id')) \\\n",
    "        .join(movie_users_df.alias('n2'), movie_movie_df['movie_id2'] == F.col('n2.movie_id')) \\\n",
    "        .select(\n",
    "            'movie_id1',\n",
    "            'movie_id2',\n",
    "            (F.col('n0.n_users') / (F.col('n1.n_users') + F.col('n2.n_users') - F.col('n0.n_users'))).alias('sim')\n",
    "        )\n",
    "    \n",
    "    return movie_movie_sim_df"
   ]
  },
  {
   "cell_type": "markdown",
   "metadata": {},
   "source": [
    "Построим несколько вариантов простой Рекомендательной Системы.\n",
    "\n",
    "*Основная цель:* порекомендовать фильм пользователю. (Для простоты опустим информацию о самих рейтингах)\n",
    "\n",
    "## Methods\n",
    "\n",
    "При разработке сложных методов, сначала нужно выбрать несколько простотых методов (`Baseline`), относительно которых мы будем сравнивать новый метод.\n",
    "\n",
    "### POP\n",
    "\n",
    "Будем всегда рекомендовать самые популярные фильмы (с наибольшим цислом оценок пользователей).\n",
    "\n",
    "Не смотря на свою простоту, в ряде задач показывает себя достаточно хорошо."
   ]
  },
  {
   "cell_type": "code",
   "execution_count": 25,
   "metadata": {},
   "outputs": [],
   "source": [
    "from pyspark.sql.window import Window\n",
    "\n",
    "\n",
    "def limit_df(df, n, col='user_id'):\n",
    "    window = Window.partitionBy(col).orderBy(F.lit('A'))\n",
    "    return df \\\n",
    "        .withColumn('rank', F.row_number().over(window)) \\\n",
    "        .filter(F.col('rank') <= n) \\\n",
    "        .drop('rank')"
   ]
  },
  {
   "cell_type": "code",
   "execution_count": 26,
   "metadata": {},
   "outputs": [],
   "source": [
    "def remove_watched(suggest, ratings_df):\n",
    "    return suggest \\\n",
    "        .join(ratings_df, on=['user_id', 'movie_id'], how='leftouter') \\\n",
    "        .filter(F.col('rating').isNull()) \\\n",
    "        .sort(F.col('sim').desc()) \\\n",
    "        .select('user_id', 'movie_id')"
   ]
  },
  {
   "cell_type": "code",
   "execution_count": 27,
   "metadata": {},
   "outputs": [],
   "source": [
    "def pop(ratings_df, users_df, n):\n",
    "    movie_users_df = ratings_df \\\n",
    "        .groupby('movie_id') \\\n",
    "        .agg(F.count('user_id').alias('sim'))\n",
    "    \n",
    "    suggest = users_df.crossJoin(movie_users_df)\n",
    "    suggest = remove_watched(suggest, ratings_df)\n",
    "    suggest = limit_df(suggest, n)\n",
    "    \n",
    "    return suggest"
   ]
  },
  {
   "cell_type": "markdown",
   "metadata": {},
   "source": [
    "### User-based Collaborative Filtering\n",
    "\n",
    "1. Для пользователя $u$ определим множество похожих пользователей как \n",
    "\n",
    "$$U(u) = \\left\\{ u' \\in U \\mid sim(u, u') > \\alpha \\right\\},$$\n",
    "\n",
    "где $sim(u, u')$ — одна из возможных мер близости $u'$ к $u$, например, косинусная близость между $R_{u}$ и $R_{u'}$\n",
    "\n",
    "2. $$I(u) = \\left\\{ i \\in I ~\\Big|~ B(i) = \\frac{|U(u) ~\\cap~ U(i)|}{|U(u) ~\\cup~ U(i)|} > 0 \\right\\}$$\n",
    "\n",
    "\n",
    "3. Отсортировать $i \\in I(u)$ по убыванию $B(i)$, взять top $N$"
   ]
  },
  {
   "cell_type": "code",
   "execution_count": 28,
   "metadata": {},
   "outputs": [],
   "source": [
    "def user_based(ratings_df, users_df, n, alpha=0.9):\n",
    "    movie_users_df = ratings_df \\\n",
    "        .groupby('movie_id') \\\n",
    "        .agg(F.count('user_id').alias('n_users')) \\\n",
    "        .cache()\n",
    "    \n",
    "    user_user_sim_df = ratings_df.alias('r1') \\\n",
    "        .join(users_df, on='user_id') \\\n",
    "        .join(ratings_df.alias('r2'), on='movie_id') \\\n",
    "        .groupby(\n",
    "            F.col('r1.user_id').alias('user_id1'), \n",
    "            F.col('r2.user_id').alias('user_id2')\n",
    "        ) \\\n",
    "        .agg(\n",
    "            (\n",
    "                F.sum(F.col('r1.rating') * F.col('r2.rating')) \\\n",
    "                / F.sqrt(F.sum(F.pow(F.col('r1.rating'), 2))) \\\n",
    "                / F.sqrt(F.sum(F.pow(F.col('r2.rating'), 2)))\n",
    "            ).alias('sim')\n",
    "        ) \\\n",
    "        .filter(F.col('sim') > alpha) \\\n",
    "        .cache()\n",
    "    \n",
    "    user_users_df = user_user_sim_df \\\n",
    "        .groupby(F.col('user_id1').alias('user_id')) \\\n",
    "        .agg(F.count('user_id2').alias('n_users'))\n",
    "    \n",
    "    movie_user_df = ratings_df \\\n",
    "        .join(user_user_sim_df, F.col('user_id') == F.col('user_id2')) \\\n",
    "        .groupby('movie_id', F.col('user_id1').alias('user_id')) \\\n",
    "        .agg(F.count('user_id2').alias('n_users'))\n",
    "    \n",
    "    suggest = movie_user_df.alias('n0') \\\n",
    "        .join(movie_users_df.alias('n1'), on='movie_id') \\\n",
    "        .join(user_users_df.alias('n2'), on='user_id') \\\n",
    "        .select(\n",
    "            F.col('n0.user_id').alias('user_id'),\n",
    "            F.col('n0.movie_id').alias('movie_id'),\n",
    "            (F.col('n0.n_users') / (F.col('n1.n_users') + F.col('n2.n_users') - F.col('n0.n_users'))).alias('sim')\n",
    "        )\n",
    "\n",
    "    suggest = remove_watched(suggest, ratings_df)\n",
    "    suggest = limit_df(suggest, n)\n",
    "    \n",
    "    return suggest"
   ]
  },
  {
   "cell_type": "markdown",
   "metadata": {},
   "source": [
    "### Item-kNN\n",
    "\n",
    "1. Для пользователя $u$ мы знаем $R(u) = \\{ i \\in I \\mid r_{ui} \\neq 0 \\} $\n",
    "\n",
    "\n",
    "2. Для каждого $i \\in R(u)$ построим $I(i)$ - множество похожих фильмов\n",
    "\n",
    "\n",
    "3. Отсортируем элементы множества $ \\bigcup_{i \\in R(u)} I(i) $, возьмем top $N$"
   ]
  },
  {
   "cell_type": "code",
   "execution_count": 29,
   "metadata": {},
   "outputs": [],
   "source": [
    "def item_knn(ratings_df, users_df, n):\n",
    "    movie_movie_sim_df = get_movie_sim(ratings_df)\n",
    "\n",
    "    suggest = ratings_df \\\n",
    "        .join(users_df, on='user_id') \\\n",
    "        .join(movie_movie_sim_df, ratings_df['movie_id'] == movie_movie_sim_df['movie_id1']) \\\n",
    "        .select(\n",
    "            ratings_df['user_id'],\n",
    "            movie_movie_sim_df['movie_id2'].alias('movie_id'),\n",
    "            movie_movie_sim_df['sim']\n",
    "        ) \\\n",
    "        .groupby('user_id', 'movie_id') \\\n",
    "        .agg(F.max('sim').alias('sim')) \\\n",
    "    \n",
    "    suggest = remove_watched(suggest, ratings_df)\n",
    "    suggest = limit_df(suggest, n)\n",
    "    \n",
    "    return suggest"
   ]
  },
  {
   "cell_type": "markdown",
   "metadata": {},
   "source": [
    "## Evaluation Protocol\n",
    "\n",
    "Теперь опишем, как будем оценивать качество рассматриваемых методов.\n",
    "\n",
    "### Data Splits\n",
    "\n",
    "Так как в данных `ratings` есть поле `timestamp`, то для каждого пользователя отсортируем его рейтинги по времени и первые $80\\%$ рейтингов отнесем в `Train`, еще $10\\%$ в `Validation`, и остальное в `Test`.\n"
   ]
  },
  {
   "cell_type": "code",
   "execution_count": 30,
   "metadata": {},
   "outputs": [],
   "source": [
    "TRAIN = 0.8\n",
    "TEST = 0.1\n",
    "VALID = 1.0 - TRAIN - TEST"
   ]
  },
  {
   "cell_type": "code",
   "execution_count": 31,
   "metadata": {},
   "outputs": [],
   "source": [
    "popular_movies_df = ratings_df \\\n",
    "    .groupby('movie_id') \\\n",
    "    .agg(F.count('user_id').alias('n_users')) \\\n",
    "    .sort(F.col('n_users').desc()) \\\n",
    "    .limit(1000) \\\n",
    "    .cache()"
   ]
  },
  {
   "cell_type": "code",
   "execution_count": 32,
   "metadata": {},
   "outputs": [
    {
     "data": {
      "text/plain": [
       "15117393"
      ]
     },
     "execution_count": 32,
     "metadata": {},
     "output_type": "execute_result"
    }
   ],
   "source": [
    "# Filter out not popular movies\n",
    "ratings_df = ratings_df.join(popular_movies_df, on='movie_id')\n",
    "ratings_df.count()"
   ]
  },
  {
   "cell_type": "code",
   "execution_count": 33,
   "metadata": {},
   "outputs": [
    {
     "data": {
      "text/plain": [
       "19192"
      ]
     },
     "execution_count": 33,
     "metadata": {},
     "output_type": "execute_result"
    }
   ],
   "source": [
    "user_movies_df = ratings_df \\\n",
    "    .groupby('user_id') \\\n",
    "    .agg(F.count('movie_id').alias('n_movies')) \\\n",
    "    .cache()\n",
    "\n",
    "active_users_df = user_movies_df \\\n",
    "    .filter(F.col('n_movies') > 200) \\\n",
    "    .select('user_id') \\\n",
    "    .cache()\n",
    "\n",
    "active_users_df.count()"
   ]
  },
  {
   "cell_type": "code",
   "execution_count": 34,
   "metadata": {},
   "outputs": [
    {
     "data": {
      "text/plain": [
       "6350581"
      ]
     },
     "execution_count": 34,
     "metadata": {},
     "output_type": "execute_result"
    }
   ],
   "source": [
    "# Filter out not active users\n",
    "ratings_df = ratings_df.join(active_users_df, on='user_id')\n",
    "ratings_df.count()"
   ]
  },
  {
   "cell_type": "code",
   "execution_count": 35,
   "metadata": {},
   "outputs": [],
   "source": [
    "# Select users that have enough data in the valid dataset\n",
    "users_df = active_users_df.limit(1000).cache()"
   ]
  },
  {
   "cell_type": "code",
   "execution_count": 36,
   "metadata": {},
   "outputs": [],
   "source": [
    "time_window = Window.orderBy('timestamp').partitionBy('user_id')\n",
    "\n",
    "rating_ratio_df = ratings_df \\\n",
    "    .join(user_movies_df, on='user_id') \\\n",
    "    .withColumn('ratio', F.row_number().over(time_window) / F.col('n_movies'))\n",
    "\n",
    "train_ratings_df = rating_ratio_df \\\n",
    "    .filter(F.col('ratio') < TRAIN) \\\n",
    "    .drop('n_movies', 'ratio') \\\n",
    "    .cache()\n",
    "\n",
    "valid_ratings_df = rating_ratio_df \\\n",
    "    .filter(F.col('ratio') >= TRAIN) \\\n",
    "    .filter(F.col('ratio') < TRAIN + VALID) \\\n",
    "    .drop('n_movies', 'ratio') \\\n",
    "    .cache()\n",
    "\n",
    "test_ratings_df = rating_ratio_df \\\n",
    "    .filter(F.col('ratio') >= TRAIN + VALID) \\\n",
    "    .drop('n_movies', 'ratio')"
   ]
  },
  {
   "cell_type": "code",
   "execution_count": 37,
   "metadata": {},
   "outputs": [
    {
     "data": {
      "text/plain": [
       "1000"
      ]
     },
     "execution_count": 37,
     "metadata": {},
     "output_type": "execute_result"
    }
   ],
   "source": [
    "# Test that all users have enough data in valid dataset\n",
    "valid_ratings_df \\\n",
    "    .join(users_df, on='user_id') \\\n",
    "    .groupby('user_id') \\\n",
    "    .agg(F.count('*').alias('n_movies')) \\\n",
    "    .filter(F.col('n_movies') >= 10) \\\n",
    "    .count()"
   ]
  },
  {
   "cell_type": "markdown",
   "metadata": {},
   "source": [
    "### Metrics\n",
    "\n",
    "В `Test` для каждого пользователя есть `user_id, R_u`, где $R_u$ - множество фильмов, которым он поставил оценку. Для того чтобы оценить качество рассматриваемых методов будем для пользователя строить список из $N$ рекомендаций $\\hat{R}_{1\\colon N}$ и считать метрики.\n",
    "\n",
    "* $$ Precision@N = \\frac{|R_u \\cap \\hat{R}_{1\\colon N} |}{N} $$\n",
    "* $$ Recall@N = \\frac{|R_u \\cap \\hat{R}_{1\\colon N} |}{|R_u|} $$\n",
    "* $$Map@N$$\n",
    "\n",
    "где $N \\in \\{1,5,10\\}$\n",
    "\n",
    "https://spark.apache.org/docs/latest/mllib-evaluation-metrics.html#ranking-systems"
   ]
  },
  {
   "cell_type": "code",
   "execution_count": 38,
   "metadata": {},
   "outputs": [],
   "source": [
    "def get_precision(true_df, pred_df):\n",
    "    precision = pred_df \\\n",
    "        .join(true_df,  on=['user_id', 'movie_id'], how='leftouter') \\\n",
    "        .select(F.mean(F.col('rating').isNotNull().cast('int')).alias('precision')) \\\n",
    "        .take(1)[0].precision\n",
    "    \n",
    "    return precision if precision else 0.0"
   ]
  },
  {
   "cell_type": "code",
   "execution_count": 39,
   "metadata": {},
   "outputs": [],
   "source": [
    "def get_recall(true_df, pred_df):\n",
    "    true_user_movies_df = true_df\\\n",
    "        .groupby('user_id') \\\n",
    "        .agg(F.count('movie_id').alias('n_true_movies'))\n",
    "    \n",
    "    pred_user_movies_df = pred_df \\\n",
    "        .join(true_df, on=['user_id', 'movie_id'], how='leftouter') \\\n",
    "        .withColumn('rel', F.col('rating').isNotNull().cast('int')) \\\n",
    "        .groupby(pred_df['user_id']) \\\n",
    "        .agg(F.sum('rel').alias('n_pred_movies'))\n",
    "    \n",
    "    recall = pred_user_movies_df \\\n",
    "        .join(true_user_movies_df, on='user_id') \\\n",
    "        .select(F.mean(F.col('n_pred_movies') / F.col('n_true_movies')).alias('recall')) \\\n",
    "        .take(1)[0].recall\n",
    "    \n",
    "    return recall if recall else 0.0"
   ]
  },
  {
   "cell_type": "code",
   "execution_count": 40,
   "metadata": {},
   "outputs": [],
   "source": [
    "def get_map(true_df, pred_df):\n",
    "    window = Window.partitionBy('user_id').orderBy(F.lit('A'))\n",
    "    window_rel = Window.partitionBy('user_id').orderBy('rank')\n",
    "    \n",
    "    map_ = pred_df \\\n",
    "        .join(true_df, on=['user_id', 'movie_id'], how='leftouter') \\\n",
    "        .withColumn('rank', F.row_number().over(window)) \\\n",
    "        .withColumn('rel', F.col('rating').isNotNull().cast('int')) \\\n",
    "        .withColumn('ap', F.sum('rel').over(window_rel)) \\\n",
    "        .select((F.mean(F.col('rel') * F.col('ap') / F.col('rank'))).alias('map')) \\\n",
    "        .take(1)[0].map\n",
    "\n",
    "    return map_ if map_ else 0.0"
   ]
  },
  {
   "cell_type": "markdown",
   "metadata": {},
   "source": [
    "## Experimental Results\n",
    "\n",
    "Посмотрим на результаты\n",
    "\n",
    "*Remark* скорее всего посчитать метрики для всех пользователей будет довольно долго - можно ограничится, например, случайными 10к пользователями"
   ]
  },
  {
   "cell_type": "code",
   "execution_count": 41,
   "metadata": {},
   "outputs": [],
   "source": [
    "def metrics(true_df, pred_df, ns=[10, 5, 1]):\n",
    "    for n in ns:\n",
    "        # Select top n recommendations\n",
    "        pred_df = limit_df(pred_df, n)\n",
    "        \n",
    "        precisoin = get_precision(true_df, pred_df)\n",
    "        recall = get_recall(true_df, pred_df)\n",
    "        map_ = get_map(true_df, pred_df)\n",
    "        \n",
    "        print('Precision@{}: {:.4f}'.format(n, precisoin))\n",
    "        print('Recall@{}: {:.4f}'.format(n, recall))\n",
    "        print('MAP@{}: {:.4f}\\n'.format(n, map_))"
   ]
  },
  {
   "cell_type": "markdown",
   "metadata": {},
   "source": [
    "### POP"
   ]
  },
  {
   "cell_type": "code",
   "execution_count": 46,
   "metadata": {},
   "outputs": [],
   "source": [
    "pred_df = pop(train_ratings_df, users_df, 10)"
   ]
  },
  {
   "cell_type": "code",
   "execution_count": 47,
   "metadata": {},
   "outputs": [
    {
     "name": "stdout",
     "output_type": "stream",
     "text": [
      "Precision@10: 0.1630\n",
      "Recall@10: 0.0502\n",
      "MAP@10: 0.0813\n",
      "\n",
      "Precision@5: 0.1800\n",
      "Recall@5: 0.0279\n",
      "MAP@5: 0.1124\n",
      "\n",
      "Precision@1: 0.1990\n",
      "Recall@1: 0.0063\n",
      "MAP@1: 0.1990\n",
      "\n"
     ]
    }
   ],
   "source": [
    "metrics(valid_ratings_df, pred_df)"
   ]
  },
  {
   "cell_type": "markdown",
   "metadata": {},
   "source": [
    "### User-based Collaborative Filtering¶"
   ]
  },
  {
   "cell_type": "code",
   "execution_count": 42,
   "metadata": {},
   "outputs": [],
   "source": [
    "pred_df = user_based(train_ratings_df, users_df, 10)"
   ]
  },
  {
   "cell_type": "code",
   "execution_count": 43,
   "metadata": {},
   "outputs": [
    {
     "name": "stdout",
     "output_type": "stream",
     "text": [
      "Precision@10: 0.1631\n",
      "Recall@10: 0.0503\n",
      "MAP@10: 0.0806\n",
      "\n",
      "Precision@5: 0.1814\n",
      "Recall@5: 0.0282\n",
      "MAP@5: 0.1145\n",
      "\n",
      "Precision@1: 0.1960\n",
      "Recall@1: 0.0063\n",
      "MAP@1: 0.1960\n",
      "\n"
     ]
    }
   ],
   "source": [
    "metrics(valid_ratings_df, pred_df)"
   ]
  },
  {
   "cell_type": "markdown",
   "metadata": {},
   "source": [
    "### Item-kNN"
   ]
  },
  {
   "cell_type": "code",
   "execution_count": 44,
   "metadata": {},
   "outputs": [],
   "source": [
    "pred_df = item_knn(train_ratings_df, users_df, 10)"
   ]
  },
  {
   "cell_type": "code",
   "execution_count": 45,
   "metadata": {},
   "outputs": [
    {
     "name": "stdout",
     "output_type": "stream",
     "text": [
      "Precision@10: 0.1802\n",
      "Recall@10: 0.0550\n",
      "MAP@10: 0.0895\n",
      "\n",
      "Precision@5: 0.1930\n",
      "Recall@5: 0.0297\n",
      "MAP@5: 0.1218\n",
      "\n",
      "Precision@1: 0.2330\n",
      "Recall@1: 0.0073\n",
      "MAP@1: 0.2330\n",
      "\n"
     ]
    }
   ],
   "source": [
    "metrics(valid_ratings_df, pred_df)"
   ]
  }
 ],
 "metadata": {
  "kernelspec": {
   "display_name": "Python 3",
   "language": "python",
   "name": "python3"
  },
  "language_info": {
   "codemirror_mode": {
    "name": "ipython",
    "version": 3
   },
   "file_extension": ".py",
   "mimetype": "text/x-python",
   "name": "python",
   "nbconvert_exporter": "python",
   "pygments_lexer": "ipython3",
   "version": "3.5.6"
  },
  "toc": {
   "base_numbering": 1,
   "nav_menu": {
    "height": "431.997px",
    "width": "329.514px"
   },
   "number_sections": true,
   "sideBar": true,
   "skip_h1_title": false,
   "title_cell": "Table of Contents",
   "title_sidebar": "Contents",
   "toc_cell": false,
   "toc_position": {
    "height": "calc(100% - 180px)",
    "left": "10px",
    "top": "150px",
    "width": "321.545px"
   },
   "toc_section_display": true,
   "toc_window_display": true
  }
 },
 "nbformat": 4,
 "nbformat_minor": 2
}
