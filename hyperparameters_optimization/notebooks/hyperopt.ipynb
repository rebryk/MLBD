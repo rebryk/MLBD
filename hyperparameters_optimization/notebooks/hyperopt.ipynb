{
 "cells": [
  {
   "cell_type": "markdown",
   "metadata": {
    "toc": true
   },
   "source": [
    "<h1>Table of Contents<span class=\"tocSkip\"></span></h1>\n",
    "<div class=\"toc\"><ul class=\"toc-item\"><li><span><a href=\"#Spark-MLlib-Tuning\" data-toc-modified-id=\"Spark-MLlib-Tuning-1\"><span class=\"toc-item-num\">1&nbsp;&nbsp;</span><a href=\"https://spark.apache.org/docs/latest/ml-tuning.html\" target=\"_blank\">Spark MLlib Tuning</a></a></span></li><li><span><a href=\"#Hyperopt\" data-toc-modified-id=\"Hyperopt-2\"><span class=\"toc-item-num\">2&nbsp;&nbsp;</span><a href=\"https://github.com/hyperopt/hyperopt\" target=\"_blank\">Hyperopt</a></a></span><ul class=\"toc-item\"><li><span><a href=\"#XGBoost-Tuning\" data-toc-modified-id=\"XGBoost-Tuning-2.1\"><span class=\"toc-item-num\">2.1&nbsp;&nbsp;</span><a href=\"https://www.analyticsvidhya.com/blog/2016/03/complete-guide-parameter-tuning-xgboost-with-codes-python/\" target=\"_blank\">XGBoost Tuning</a></a></span><ul class=\"toc-item\"><li><span><a href=\"#Objective-function\" data-toc-modified-id=\"Objective-function-2.1.1\"><span class=\"toc-item-num\">2.1.1&nbsp;&nbsp;</span>Objective function</a></span></li><li><span><a href=\"#Tune-number-of-trees\" data-toc-modified-id=\"Tune-number-of-trees-2.1.2\"><span class=\"toc-item-num\">2.1.2&nbsp;&nbsp;</span>Tune number of trees</a></span></li><li><span><a href=\"#Tune-tree-specific-parameters\" data-toc-modified-id=\"Tune-tree-specific-parameters-2.1.3\"><span class=\"toc-item-num\">2.1.3&nbsp;&nbsp;</span>Tune tree-specific parameters</a></span><ul class=\"toc-item\"><li><span><a href=\"#Tune-max_depth,-min_child_weight\" data-toc-modified-id=\"Tune-max_depth,-min_child_weight-2.1.3.1\"><span class=\"toc-item-num\">2.1.3.1&nbsp;&nbsp;</span>Tune max_depth, min_child_weight</a></span></li><li><span><a href=\"#Tune-gamma\" data-toc-modified-id=\"Tune-gamma-2.1.3.2\"><span class=\"toc-item-num\">2.1.3.2&nbsp;&nbsp;</span>Tune gamma</a></span></li><li><span><a href=\"#Tune-subsample,-colsample_bytree\" data-toc-modified-id=\"Tune-subsample,-colsample_bytree-2.1.3.3\"><span class=\"toc-item-num\">2.1.3.3&nbsp;&nbsp;</span>Tune subsample, colsample_bytree</a></span></li></ul></li><li><span><a href=\"#Tune-regularization-parameters\" data-toc-modified-id=\"Tune-regularization-parameters-2.1.4\"><span class=\"toc-item-num\">2.1.4&nbsp;&nbsp;</span>Tune regularization parameters</a></span></li><li><span><a href=\"#Lower-the-learning-rate-and-decide-the-optimal-parameters\" data-toc-modified-id=\"Lower-the-learning-rate-and-decide-the-optimal-parameters-2.1.5\"><span class=\"toc-item-num\">2.1.5&nbsp;&nbsp;</span>Lower the learning rate and decide the optimal parameters</a></span></li></ul></li><li><span><a href=\"#LogisticRegression-Tuning\" data-toc-modified-id=\"LogisticRegression-Tuning-2.2\"><span class=\"toc-item-num\">2.2&nbsp;&nbsp;</span>LogisticRegression Tuning</a></span></li><li><span><a href=\"#Optional-MongoTrials\" data-toc-modified-id=\"Optional-MongoTrials-2.3\"><span class=\"toc-item-num\">2.3&nbsp;&nbsp;</span>Optional <a href=\"https://hyperopt.github.io/hyperopt/scaleout/mongodb/\" target=\"_blank\">MongoTrials</a></a></span><ul class=\"toc-item\"><li><span><a href=\"#XGBoost-Tuning\" data-toc-modified-id=\"XGBoost-Tuning-2.3.1\"><span class=\"toc-item-num\">2.3.1&nbsp;&nbsp;</span>XGBoost Tuning</a></span></li></ul></li></ul></li><li><span><a href=\"#Results\" data-toc-modified-id=\"Results-3\"><span class=\"toc-item-num\">3&nbsp;&nbsp;</span>Results</a></span></li></ul></div>"
   ]
  },
  {
   "cell_type": "markdown",
   "metadata": {},
   "source": [
    "Продолжаем работать над задачей CTR-prediction с использованием датасета от Criteo.\n",
    "\n",
    "Описание задачи и данных можно посмотреть в notebook'e предыдущей практики (`sgd_logreg_nn/notebooks/ctr_prediction_mllib.ipynb`)."
   ]
  },
  {
   "cell_type": "code",
   "execution_count": 1,
   "metadata": {},
   "outputs": [],
   "source": [
    "%matplotlib inline\n",
    "%config InlineBackend.figure_format ='retina'\n",
    "\n",
    "import os\n",
    "import sys\n",
    "import glob\n",
    "import pickle\n",
    "import seaborn as sns\n",
    "import matplotlib.pyplot as plt\n",
    "import numpy as np\n",
    "\n",
    "import pyspark\n",
    "import pyspark.sql.functions as F\n",
    "from pyspark.conf import SparkConf\n",
    "from pyspark.sql import SQLContext\n",
    "from pyspark.sql import SparkSession\n",
    "from pyspark.sql import Row\n",
    "\n",
    "COMMON_PATH = '/workspace/common'\n",
    "\n",
    "sys.path.append(os.path.join(COMMON_PATH, 'utils'))\n",
    "\n",
    "os.environ['PYSPARK_SUBMIT_ARGS'] = \"\"\"\n",
    "--jars {common}/xgboost4j-spark-0.72.jar,{common}/xgboost4j-0.72.jar\n",
    "--py-files {common}/sparkxgb.zip pyspark-shell\n",
    "\"\"\".format(common=COMMON_PATH).replace('\\n', ' ')\n",
    "\n",
    "spark = SparkSession \\\n",
    "    .builder \\\n",
    "    .master('local[*]') \\\n",
    "    .appName(\"spark_sql_examples\") \\\n",
    "    .config(\"spark.executor.memory\", \"32g\") \\\n",
    "    .config(\"spark.driver.memory\", \"32g\") \\\n",
    "    .getOrCreate()\n",
    "\n",
    "sc = spark.sparkContext\n",
    "sqlContext = SQLContext(sc)\n",
    "\n",
    "from metrics import rocauc, logloss, ne, get_ate\n",
    "from processing import split_by_col\n",
    "\n",
    "from sparkxgb.xgboost import *"
   ]
  },
  {
   "cell_type": "code",
   "execution_count": 2,
   "metadata": {},
   "outputs": [],
   "source": [
    "DATA_PATH = '/workspace/data/criteo'\n",
    "\n",
    "TRAIN_PATH = os.path.join(DATA_PATH, 'train.csv')\n",
    "DATA_PROCESSING_MODEL_CHECKPOINT = os.path.join(DATA_PATH, 'data_processing_model.bin')"
   ]
  },
  {
   "cell_type": "code",
   "execution_count": 3,
   "metadata": {},
   "outputs": [],
   "source": [
    "df = sqlContext.read.format(\"com.databricks.spark.csv\") \\\n",
    "    .option(\"delimiter\", \",\") \\\n",
    "    .option(\"header\", \"true\") \\\n",
    "    .option(\"inferSchema\", \"true\") \\\n",
    "    .load('file:///' + TRAIN_PATH)"
   ]
  },
  {
   "cell_type": "markdown",
   "metadata": {},
   "source": [
    "**Remark** Необязательно использовать половину датасета и всего две категориальные переменные. Можно использовать больше данных, если вам позволяет ваша конфигурация"
   ]
  },
  {
   "cell_type": "code",
   "execution_count": 4,
   "metadata": {},
   "outputs": [],
   "source": [
    "df = df.sample(False, 0.1)"
   ]
  },
  {
   "cell_type": "code",
   "execution_count": 5,
   "metadata": {},
   "outputs": [
    {
     "data": {
      "text/plain": [
       "(13, 2)"
      ]
     },
     "execution_count": 5,
     "metadata": {},
     "output_type": "execute_result"
    }
   ],
   "source": [
    "num_columns = ['_c{}'.format(i) for i in range(1, 14)]\n",
    "cat_columns = ['_c{}'.format(i) for i in range(14, 40)][:2]\n",
    "len(num_columns), len(cat_columns)"
   ]
  },
  {
   "cell_type": "code",
   "execution_count": 6,
   "metadata": {},
   "outputs": [],
   "source": [
    "df = df.fillna(0, subset=num_columns)"
   ]
  },
  {
   "cell_type": "code",
   "execution_count": 7,
   "metadata": {},
   "outputs": [],
   "source": [
    "from pyspark.ml import PipelineModel\n",
    "\n",
    "\n",
    "pipeline_model = PipelineModel.load(DATA_PROCESSING_MODEL_CHECKPOINT)"
   ]
  },
  {
   "cell_type": "code",
   "execution_count": 8,
   "metadata": {},
   "outputs": [
    {
     "data": {
      "text/plain": [
       "366157"
      ]
     },
     "execution_count": 8,
     "metadata": {},
     "output_type": "execute_result"
    }
   ],
   "source": [
    "df = pipeline_model \\\n",
    "    .transform(df) \\\n",
    "    .select(F.col('_c0').alias('label'), 'features', 'id') \\\n",
    "    .cache()\n",
    "\n",
    "df.count()"
   ]
  },
  {
   "cell_type": "code",
   "execution_count": 9,
   "metadata": {},
   "outputs": [],
   "source": [
    "train_df, val_df, test_df = split_by_col(df, 'id', [0.8, 0.1, 0.1])"
   ]
  },
  {
   "cell_type": "markdown",
   "metadata": {},
   "source": [
    "# [Spark MLlib Tuning](https://spark.apache.org/docs/latest/ml-tuning.html)\n",
    "\n",
    "У имеющегося в Spark'e метода HPO есть два существенных недостатка, которые делают его мало пригодным в контексте нашей задачи:\n",
    "\n",
    "1. `ParamGridBuilder` - поиск по сетке\n",
    "2. `TrainValidationSplit` - делит данные случайнм образом"
   ]
  },
  {
   "cell_type": "markdown",
   "metadata": {},
   "source": [
    "# [Hyperopt](https://github.com/hyperopt/hyperopt)\n",
    "\n",
    "Установим `hyperopt`"
   ]
  },
  {
   "cell_type": "code",
   "execution_count": 11,
   "metadata": {},
   "outputs": [
    {
     "name": "stdout",
     "output_type": "stream",
     "text": [
      "Collecting hyperopt\n",
      "  Downloading hyperopt-0.2.3-py3-none-any.whl (1.9 MB)\n",
      "\u001b[K     |████████████████████████████████| 1.9 MB 1.8 MB/s eta 0:00:01\n",
      "\u001b[?25hRequirement already satisfied: numpy in /usr/lib64/python3.5/site-packages (from hyperopt) (1.17.2)\n",
      "Requirement already satisfied: six in /usr/lib/python3.5/site-packages (from hyperopt) (1.14.0)\n",
      "Collecting networkx==2.2\n",
      "  Downloading networkx-2.2.zip (1.7 MB)\n",
      "\u001b[K     |████████████████████████████████| 1.7 MB 10.0 MB/s eta 0:00:01\n",
      "\u001b[?25hCollecting cloudpickle\n",
      "  Downloading cloudpickle-1.3.0-py2.py3-none-any.whl (26 kB)\n",
      "Requirement already satisfied: tqdm in /usr/lib/python3.5/site-packages (from hyperopt) (4.43.0)\n",
      "Requirement already satisfied: scipy in /usr/lib64/python3.5/site-packages (from hyperopt) (1.3.3)\n",
      "Collecting future\n",
      "  Downloading future-0.18.2.tar.gz (829 kB)\n",
      "\u001b[K     |████████████████████████████████| 829 kB 21.0 MB/s eta 0:00:01\n",
      "\u001b[?25hRequirement already satisfied: decorator>=4.3.0 in /usr/lib/python3.5/site-packages (from networkx==2.2->hyperopt) (4.4.1)\n",
      "Installing collected packages: networkx, cloudpickle, future, hyperopt\n",
      "    Running setup.py install for networkx ... \u001b[?25ldone\n",
      "\u001b[?25h    Running setup.py install for future ... \u001b[?25ldone\n",
      "\u001b[?25hSuccessfully installed cloudpickle-1.3.0 future-0.18.2 hyperopt-0.2.3 networkx-2.2\n"
     ]
    }
   ],
   "source": [
    "!pip3.5 install hyperopt"
   ]
  },
  {
   "cell_type": "markdown",
   "metadata": {},
   "source": [
    "## [XGBoost Tuning](https://www.analyticsvidhya.com/blog/2016/03/complete-guide-parameter-tuning-xgboost-with-codes-python/)\n",
    "\n",
    "> [Notes on Parameter Tuning](https://xgboost.readthedocs.io/en/latest/tutorials/param_tuning.html)\n",
    "\n",
    "### Objective function"
   ]
  },
  {
   "cell_type": "code",
   "execution_count": 10,
   "metadata": {},
   "outputs": [],
   "source": [
    "from hyperopt import fmin, tpe, hp, Trials, STATUS_OK\n",
    "import scipy.stats as st\n",
    "\n",
    "\n",
    "def objective(space):\n",
    "    estimator = XGBoostEstimator(**space)\n",
    "    print('SPACE:', estimator._input_kwargs_processed())\n",
    "    success = False\n",
    "    attempts = 0\n",
    "    model = None\n",
    "    while not success and attempts < 2:\n",
    "        try:\n",
    "            model = estimator.fit(train_df)\n",
    "            success = True\n",
    "        except Exception as e:\n",
    "            attempts += 1\n",
    "            print(e)\n",
    "            print('Try again')\n",
    "        \n",
    "    log_loss = logloss(model, val_df, probabilities_col='probabilities')\n",
    "    roc_auc = rocauc(model, val_df, probabilities_col='probabilities')\n",
    "    \n",
    "    print('LOG-LOSS: {}, ROC-AUC: {}'.format(log_loss, roc_auc))\n",
    "\n",
    "    return {'loss': log_loss, 'rocauc': roc_auc, 'status': STATUS_OK }"
   ]
  },
  {
   "cell_type": "code",
   "execution_count": 11,
   "metadata": {},
   "outputs": [],
   "source": [
    "static_params = {\n",
    "    'featuresCol': 'features', \n",
    "    'labelCol': 'label', \n",
    "    'predictionCol': 'prediction',\n",
    "    'eval_metric': 'logloss',\n",
    "    'objective': 'binary:logistic',\n",
    "    'nthread': 1,\n",
    "    'silent': 0,\n",
    "    'nworkers': 1\n",
    "}"
   ]
  },
  {
   "cell_type": "markdown",
   "metadata": {},
   "source": [
    "Fix baseline parameters and train baseline model"
   ]
  },
  {
   "cell_type": "code",
   "execution_count": 12,
   "metadata": {},
   "outputs": [],
   "source": [
    "CONTROL_NAME = 'xgb baseline'\n",
    "\n",
    "baseline_params = {\n",
    "    'colsample_bytree': 0.9,\n",
    "    'eta': 0.15,\n",
    "    'gamma': 0.9,\n",
    "    'max_depth': 6,\n",
    "    'min_child_weight': 50.0,\n",
    "    'subsample': 0.9,\n",
    "    'num_round': 20\n",
    "}\n",
    "\n",
    "baseline_model = XGBoostEstimator(**{**static_params, **baseline_params}).fit(train_df)"
   ]
  },
  {
   "cell_type": "code",
   "execution_count": 13,
   "metadata": {},
   "outputs": [
    {
     "data": {
      "text/plain": [
       "0.7212021011149682"
      ]
     },
     "execution_count": 13,
     "metadata": {},
     "output_type": "execute_result"
    }
   ],
   "source": [
    "baseline_rocauc = rocauc(baseline_model, val_df, probabilities_col='probabilities')\n",
    "baseline_rocauc"
   ]
  },
  {
   "cell_type": "code",
   "execution_count": 14,
   "metadata": {},
   "outputs": [],
   "source": [
    "all_metrics = {}"
   ]
  },
  {
   "cell_type": "code",
   "execution_count": 15,
   "metadata": {},
   "outputs": [],
   "source": [
    "baseline_test_metrics = {\n",
    "    'logloss': logloss(baseline_model, test_df, probabilities_col='probabilities'),\n",
    "    'rocauc': rocauc(baseline_model, test_df, probabilities_col='probabilities')\n",
    "}\n",
    "\n",
    "all_metrics[CONTROL_NAME] = baseline_test_metrics"
   ]
  },
  {
   "cell_type": "markdown",
   "metadata": {},
   "source": [
    "### Tune number of trees\n",
    "\n",
    "> Choose a relatively high learning rate. Generally a learning rate of 0.1 works but somewhere between 0.05 to 0.3 should work for different problems. Determine the optimum number of trees for this learning rate."
   ]
  },
  {
   "cell_type": "code",
   "execution_count": 17,
   "metadata": {
    "scrolled": true
   },
   "outputs": [
    {
     "name": "stdout",
     "output_type": "stream",
     "text": [
      "SPACE:                                                \n",
      "{'max_depth': 6, 'predictionCol': 'prediction', 'subsample': 0.9, 'eval_metric': 'logloss', 'num_round': 100, 'nworkers': 1, 'nthread': 1, 'labelCol': 'label', 'featuresCol': 'features', 'silent': 0, 'objective': 'binary:logistic', 'gamma': 0.9, 'min_child_weight': 50.0, 'colsample_bytree': 0.9, 'eta': 0.1}\n",
      "LOG-LOSS: 0.508318383028313, ROC-AUC: 0.727585969611326\n",
      "SPACE:                                                                         \n",
      "{'max_depth': 6, 'predictionCol': 'prediction', 'subsample': 0.9, 'eval_metric': 'logloss', 'num_round': 100, 'nworkers': 1, 'nthread': 1, 'labelCol': 'label', 'featuresCol': 'features', 'silent': 0, 'objective': 'binary:logistic', 'gamma': 0.9, 'min_child_weight': 50.0, 'colsample_bytree': 0.9, 'eta': 0.5}\n",
      "LOG-LOSS: 0.5087452285049104, ROC-AUC: 0.7272515883610267                      \n",
      "SPACE:                                                                         \n",
      "{'max_depth': 6, 'predictionCol': 'prediction', 'subsample': 0.9, 'eval_metric': 'logloss', 'num_round': 50, 'nworkers': 1, 'nthread': 1, 'labelCol': 'label', 'featuresCol': 'features', 'silent': 0, 'objective': 'binary:logistic', 'gamma': 0.9, 'min_child_weight': 50.0, 'colsample_bytree': 0.9, 'eta': 0.3}\n",
      "LOG-LOSS: 0.5074302948033367, ROC-AUC: 0.728886067584682                       \n",
      "SPACE:                                                                          \n",
      "{'max_depth': 6, 'predictionCol': 'prediction', 'subsample': 0.9, 'eval_metric': 'logloss', 'num_round': 50, 'nworkers': 1, 'nthread': 1, 'labelCol': 'label', 'featuresCol': 'features', 'silent': 0, 'objective': 'binary:logistic', 'gamma': 0.9, 'min_child_weight': 50.0, 'colsample_bytree': 0.9, 'eta': 0.1}\n",
      "LOG-LOSS: 0.5104478670949751, ROC-AUC: 0.7246221335251409                       \n",
      "SPACE:                                                                          \n",
      "{'max_depth': 6, 'predictionCol': 'prediction', 'subsample': 0.9, 'eval_metric': 'logloss', 'num_round': 100, 'nworkers': 1, 'nthread': 1, 'labelCol': 'label', 'featuresCol': 'features', 'silent': 0, 'objective': 'binary:logistic', 'gamma': 0.9, 'min_child_weight': 50.0, 'colsample_bytree': 0.9, 'eta': 0.1}\n",
      "LOG-LOSS: 0.508318383028313, ROC-AUC: 0.7275859696113257                        \n",
      "SPACE:                                                                          \n",
      "{'max_depth': 6, 'predictionCol': 'prediction', 'subsample': 0.9, 'eval_metric': 'logloss', 'num_round': 100, 'nworkers': 1, 'nthread': 1, 'labelCol': 'label', 'featuresCol': 'features', 'silent': 0, 'objective': 'binary:logistic', 'gamma': 0.9, 'min_child_weight': 50.0, 'colsample_bytree': 0.9, 'eta': 0.3}\n",
      "LOG-LOSS: 0.5064822465050988, ROC-AUC: 0.7302851387401692                       \n",
      "SPACE:                                                                          \n",
      "{'max_depth': 6, 'predictionCol': 'prediction', 'subsample': 0.9, 'eval_metric': 'logloss', 'num_round': 100, 'nworkers': 1, 'nthread': 1, 'labelCol': 'label', 'featuresCol': 'features', 'silent': 0, 'objective': 'binary:logistic', 'gamma': 0.9, 'min_child_weight': 50.0, 'colsample_bytree': 0.9, 'eta': 0.1}\n",
      "LOG-LOSS: 0.508318383028313, ROC-AUC: 0.7275859696113257                        \n",
      "SPACE:                                                                          \n",
      "{'max_depth': 6, 'predictionCol': 'prediction', 'subsample': 0.9, 'eval_metric': 'logloss', 'num_round': 50, 'nworkers': 1, 'nthread': 1, 'labelCol': 'label', 'featuresCol': 'features', 'silent': 0, 'objective': 'binary:logistic', 'gamma': 0.9, 'min_child_weight': 50.0, 'colsample_bytree': 0.9, 'eta': 0.5}\n",
      "LOG-LOSS: 0.5073624895007169, ROC-AUC: 0.7286752949309705                       \n",
      "SPACE:                                                                          \n",
      "{'max_depth': 6, 'predictionCol': 'prediction', 'subsample': 0.9, 'eval_metric': 'logloss', 'num_round': 50, 'nworkers': 1, 'nthread': 1, 'labelCol': 'label', 'featuresCol': 'features', 'silent': 0, 'objective': 'binary:logistic', 'gamma': 0.9, 'min_child_weight': 50.0, 'colsample_bytree': 0.9, 'eta': 0.15}\n",
      "LOG-LOSS: 0.5090241327618951, ROC-AUC: 0.7266358571154439                       \n",
      "SPACE:                                                                          \n",
      "{'max_depth': 6, 'predictionCol': 'prediction', 'subsample': 0.9, 'eval_metric': 'logloss', 'num_round': 50, 'nworkers': 1, 'nthread': 1, 'labelCol': 'label', 'featuresCol': 'features', 'silent': 0, 'objective': 'binary:logistic', 'gamma': 0.9, 'min_child_weight': 50.0, 'colsample_bytree': 0.9, 'eta': 0.3}\n",
      "LOG-LOSS: 0.5074302948033367, ROC-AUC: 0.7288860675846822                       \n",
      "SPACE:                                                                           \n",
      "{'max_depth': 6, 'predictionCol': 'prediction', 'subsample': 0.9, 'eval_metric': 'logloss', 'num_round': 50, 'nworkers': 1, 'nthread': 1, 'labelCol': 'label', 'featuresCol': 'features', 'silent': 0, 'objective': 'binary:logistic', 'gamma': 0.9, 'min_child_weight': 50.0, 'colsample_bytree': 0.9, 'eta': 0.15}\n",
      "LOG-LOSS: 0.5090241327618951, ROC-AUC: 0.7266358571154443                        \n",
      "SPACE:                                                                           \n",
      "{'max_depth': 6, 'predictionCol': 'prediction', 'subsample': 0.9, 'eval_metric': 'logloss', 'num_round': 50, 'nworkers': 1, 'nthread': 1, 'labelCol': 'label', 'featuresCol': 'features', 'silent': 0, 'objective': 'binary:logistic', 'gamma': 0.9, 'min_child_weight': 50.0, 'colsample_bytree': 0.9, 'eta': 0.5}\n",
      "LOG-LOSS: 0.5073624895007169, ROC-AUC: 0.7286752949309709                        \n",
      "SPACE:                                                                           \n",
      "{'max_depth': 6, 'predictionCol': 'prediction', 'subsample': 0.9, 'eval_metric': 'logloss', 'num_round': 100, 'nworkers': 1, 'nthread': 1, 'labelCol': 'label', 'featuresCol': 'features', 'silent': 0, 'objective': 'binary:logistic', 'gamma': 0.9, 'min_child_weight': 50.0, 'colsample_bytree': 0.9, 'eta': 0.2}\n",
      "LOG-LOSS: 0.5067317556079892, ROC-AUC: 0.7297720505597761                        \n",
      "SPACE:                                                                           \n",
      "{'max_depth': 6, 'predictionCol': 'prediction', 'subsample': 0.9, 'eval_metric': 'logloss', 'num_round': 50, 'nworkers': 1, 'nthread': 1, 'labelCol': 'label', 'featuresCol': 'features', 'silent': 0, 'objective': 'binary:logistic', 'gamma': 0.9, 'min_child_weight': 50.0, 'colsample_bytree': 0.9, 'eta': 0.3}\n",
      "LOG-LOSS: 0.5074302948033367, ROC-AUC: 0.7288860675846827                        \n",
      "SPACE:                                                                           \n",
      "{'max_depth': 6, 'predictionCol': 'prediction', 'subsample': 0.9, 'eval_metric': 'logloss', 'num_round': 100, 'nworkers': 1, 'nthread': 1, 'labelCol': 'label', 'featuresCol': 'features', 'silent': 0, 'objective': 'binary:logistic', 'gamma': 0.9, 'min_child_weight': 50.0, 'colsample_bytree': 0.9, 'eta': 0.3}\n",
      "LOG-LOSS: 0.5064822465050988, ROC-AUC: 0.7302851387401699                        \n",
      "SPACE:                                                                           \n",
      "{'max_depth': 6, 'predictionCol': 'prediction', 'subsample': 0.9, 'eval_metric': 'logloss', 'num_round': 50, 'nworkers': 1, 'nthread': 1, 'labelCol': 'label', 'featuresCol': 'features', 'silent': 0, 'objective': 'binary:logistic', 'gamma': 0.9, 'min_child_weight': 50.0, 'colsample_bytree': 0.9, 'eta': 0.3}\n",
      "LOG-LOSS: 0.5074302948033367, ROC-AUC: 0.7288860675846822                        \n",
      "SPACE:                                                                           \n",
      "{'max_depth': 6, 'predictionCol': 'prediction', 'subsample': 0.9, 'eval_metric': 'logloss', 'num_round': 50, 'nworkers': 1, 'nthread': 1, 'labelCol': 'label', 'featuresCol': 'features', 'silent': 0, 'objective': 'binary:logistic', 'gamma': 0.9, 'min_child_weight': 50.0, 'colsample_bytree': 0.9, 'eta': 0.5}\n",
      "LOG-LOSS: 0.5073624895007169, ROC-AUC: 0.7286752949309705                        \n",
      "SPACE:                                                                           \n",
      "{'max_depth': 6, 'predictionCol': 'prediction', 'subsample': 0.9, 'eval_metric': 'logloss', 'num_round': 50, 'nworkers': 1, 'nthread': 1, 'labelCol': 'label', 'featuresCol': 'features', 'silent': 0, 'objective': 'binary:logistic', 'gamma': 0.9, 'min_child_weight': 50.0, 'colsample_bytree': 0.9, 'eta': 0.3}\n"
     ]
    },
    {
     "name": "stdout",
     "output_type": "stream",
     "text": [
      "LOG-LOSS: 0.5074302948033367, ROC-AUC: 0.7288860675846821                        \n",
      "SPACE:                                                                           \n",
      "{'max_depth': 6, 'predictionCol': 'prediction', 'subsample': 0.9, 'eval_metric': 'logloss', 'num_round': 50, 'nworkers': 1, 'nthread': 1, 'labelCol': 'label', 'featuresCol': 'features', 'silent': 0, 'objective': 'binary:logistic', 'gamma': 0.9, 'min_child_weight': 50.0, 'colsample_bytree': 0.9, 'eta': 0.1}\n",
      "LOG-LOSS: 0.5104478670949751, ROC-AUC: 0.7246221335251408                        \n",
      "SPACE:                                                                           \n",
      "{'max_depth': 6, 'predictionCol': 'prediction', 'subsample': 0.9, 'eval_metric': 'logloss', 'num_round': 100, 'nworkers': 1, 'nthread': 1, 'labelCol': 'label', 'featuresCol': 'features', 'silent': 0, 'objective': 'binary:logistic', 'gamma': 0.9, 'min_child_weight': 50.0, 'colsample_bytree': 0.9, 'eta': 0.5}\n",
      "LOG-LOSS: 0.5087452285049104, ROC-AUC: 0.7272515883610264                        \n",
      "100%|██████████| 20/20 [05:59<00:00, 17.96s/trial, best loss: 0.5064822465050988]\n",
      "CPU times: user 2.14 s, sys: 549 ms, total: 2.69 s\n",
      "Wall time: 5min 59s\n"
     ]
    }
   ],
   "source": [
    "%%time\n",
    "\n",
    "num_round_choice = [50, 100]\n",
    "eta_choice = [0.1, 0.5, 0.10, 0.15, 0.20, 0.30]\n",
    "\n",
    "space = {\n",
    "    # Optimize\n",
    "    'num_round': hp.choice('num_round', num_round_choice),\n",
    "    'eta': hp.choice('eta', eta_choice),\n",
    "    \n",
    "    # Fixed    \n",
    "    'max_depth': baseline_params['max_depth'],\n",
    "    'min_child_weight': baseline_params['min_child_weight'],\n",
    "    'subsample': baseline_params['subsample'],\n",
    "    'gamma': baseline_params['gamma'],\n",
    "    'colsample_bytree': baseline_params['colsample_bytree'],\n",
    "    \n",
    "    **static_params\n",
    "}\n",
    "\n",
    "\n",
    "trials = Trials()\n",
    "best = fmin(\n",
    "    fn=objective,\n",
    "    space=space,\n",
    "    algo=tpe.suggest,\n",
    "    max_evals=20,\n",
    "    trials=trials\n",
    ")"
   ]
  },
  {
   "cell_type": "code",
   "execution_count": 18,
   "metadata": {},
   "outputs": [
    {
     "data": {
      "text/plain": [
       "{'eta': 5, 'num_round': 1}"
      ]
     },
     "execution_count": 18,
     "metadata": {},
     "output_type": "execute_result"
    }
   ],
   "source": [
    "best"
   ]
  },
  {
   "cell_type": "markdown",
   "metadata": {},
   "source": [
    "Обратите внимание на то, что в случае с `hp.choice` в переменной `best` хранится не конкретное значение гиперпараметра, а его индекс из списка, например, `num_round_choice`"
   ]
  },
  {
   "cell_type": "code",
   "execution_count": 19,
   "metadata": {},
   "outputs": [],
   "source": [
    "eta = eta_choice[best['eta']]  # change me!\n",
    "num_round = num_round_choice[best['num_round']]  # change me!"
   ]
  },
  {
   "cell_type": "code",
   "execution_count": 20,
   "metadata": {},
   "outputs": [
    {
     "data": {
      "text/plain": [
       "(0.3, 100)"
      ]
     },
     "execution_count": 20,
     "metadata": {},
     "output_type": "execute_result"
    }
   ],
   "source": [
    "eta, num_round"
   ]
  },
  {
   "cell_type": "markdown",
   "metadata": {},
   "source": [
    "### Tune tree-specific parameters\n",
    "\n",
    "> Tune tree-specific parameters ( max_depth, min_child_weight, gamma, subsample, colsample_bytree) for decided learning rate and number of trees. Note that we can choose different parameters to define a tree and I’ll take up an example here."
   ]
  },
  {
   "cell_type": "markdown",
   "metadata": {},
   "source": [
    "#### Tune max_depth, min_child_weight"
   ]
  },
  {
   "cell_type": "code",
   "execution_count": 21,
   "metadata": {},
   "outputs": [],
   "source": [
    "max_depth_choice = [4, 6, 8]\n",
    "min_child_weight_choice = [1.0, 1.5, 2.0]\n",
    "subsample_choice = [0.7, 0.8, 0.9, 1.0]\n",
    "colsample_bytree_choice = [0.7, 0.8, 0.9, 1.0]\n",
    "gamma_choice = [0., 0.2, 0.4, 0.9]\n",
    "\n",
    "space = {\n",
    "    # Optimize\n",
    "    'max_depth': hp.choice('max_depth', max_depth_choice),\n",
    "    'min_child_weight': hp.choice('min_child_weight', min_child_weight_choice),\n",
    "    'subsample': hp.choice('subsample', subsample_choice),\n",
    "    'colsample_bytree': hp.choice('colsample_bytree', colsample_bytree_choice),\n",
    "    'gamma': hp.choice('gamma', gamma_choice),\n",
    "    \n",
    "    # Fixed    \n",
    "    'num_round': num_round,\n",
    "    'eta': eta,\n",
    "    \n",
    "    **static_params\n",
    "}"
   ]
  },
  {
   "cell_type": "code",
   "execution_count": 22,
   "metadata": {
    "scrolled": false
   },
   "outputs": [
    {
     "name": "stdout",
     "output_type": "stream",
     "text": [
      "SPACE:                                                \n",
      "{'max_depth': 6, 'predictionCol': 'prediction', 'subsample': 1.0, 'eval_metric': 'logloss', 'num_round': 100, 'nworkers': 1, 'nthread': 1, 'labelCol': 'label', 'featuresCol': 'features', 'silent': 0, 'objective': 'binary:logistic', 'gamma': 0.0, 'min_child_weight': 1.0, 'colsample_bytree': 0.9, 'eta': 0.3}\n",
      "LOG-LOSS: 0.5080751015654534, ROC-AUC: 0.7273941031163166\n",
      "SPACE:                                                                          \n",
      "{'max_depth': 6, 'predictionCol': 'prediction', 'subsample': 0.8, 'eval_metric': 'logloss', 'num_round': 100, 'nworkers': 1, 'nthread': 1, 'labelCol': 'label', 'featuresCol': 'features', 'silent': 0, 'objective': 'binary:logistic', 'gamma': 0.2, 'min_child_weight': 2.0, 'colsample_bytree': 0.9, 'eta': 0.3}\n",
      "LOG-LOSS: 0.5062359215479508, ROC-AUC: 0.7309382392201618                       \n",
      "SPACE:                                                                          \n",
      "{'max_depth': 8, 'predictionCol': 'prediction', 'subsample': 0.7, 'eval_metric': 'logloss', 'num_round': 100, 'nworkers': 1, 'nthread': 1, 'labelCol': 'label', 'featuresCol': 'features', 'silent': 0, 'objective': 'binary:logistic', 'gamma': 0.0, 'min_child_weight': 1.0, 'colsample_bytree': 0.7, 'eta': 0.3}\n",
      "LOG-LOSS: 0.5101359345001304, ROC-AUC: 0.7245960224516701                       \n",
      "SPACE:                                                                          \n",
      "{'max_depth': 6, 'predictionCol': 'prediction', 'subsample': 1.0, 'eval_metric': 'logloss', 'num_round': 100, 'nworkers': 1, 'nthread': 1, 'labelCol': 'label', 'featuresCol': 'features', 'silent': 0, 'objective': 'binary:logistic', 'gamma': 0.0, 'min_child_weight': 1.5, 'colsample_bytree': 0.8, 'eta': 0.3}\n",
      "LOG-LOSS: 0.5071208400118024, ROC-AUC: 0.7287605286873987                       \n",
      "SPACE:                                                                          \n",
      "{'max_depth': 4, 'predictionCol': 'prediction', 'subsample': 0.8, 'eval_metric': 'logloss', 'num_round': 100, 'nworkers': 1, 'nthread': 1, 'labelCol': 'label', 'featuresCol': 'features', 'silent': 0, 'objective': 'binary:logistic', 'gamma': 0.2, 'min_child_weight': 2.0, 'colsample_bytree': 0.9, 'eta': 0.3}\n",
      "LOG-LOSS: 0.5071886575264759, ROC-AUC: 0.729715503537526                        \n",
      "SPACE:                                                                          \n",
      "{'max_depth': 4, 'predictionCol': 'prediction', 'subsample': 0.7, 'eval_metric': 'logloss', 'num_round': 100, 'nworkers': 1, 'nthread': 1, 'labelCol': 'label', 'featuresCol': 'features', 'silent': 0, 'objective': 'binary:logistic', 'gamma': 0.4, 'min_child_weight': 1.5, 'colsample_bytree': 0.9, 'eta': 0.3}\n",
      "LOG-LOSS: 0.5063819634806753, ROC-AUC: 0.7304085662506647                       \n",
      "SPACE:                                                                          \n",
      "{'max_depth': 4, 'predictionCol': 'prediction', 'subsample': 0.9, 'eval_metric': 'logloss', 'num_round': 100, 'nworkers': 1, 'nthread': 1, 'labelCol': 'label', 'featuresCol': 'features', 'silent': 0, 'objective': 'binary:logistic', 'gamma': 0.9, 'min_child_weight': 1.5, 'colsample_bytree': 0.8, 'eta': 0.3}\n",
      "LOG-LOSS: 0.5079279103148895, ROC-AUC: 0.7279528095805952                       \n",
      "SPACE:                                                                          \n",
      "{'max_depth': 8, 'predictionCol': 'prediction', 'subsample': 1.0, 'eval_metric': 'logloss', 'num_round': 100, 'nworkers': 1, 'nthread': 1, 'labelCol': 'label', 'featuresCol': 'features', 'silent': 0, 'objective': 'binary:logistic', 'gamma': 0.9, 'min_child_weight': 1.5, 'colsample_bytree': 0.7, 'eta': 0.3}\n",
      "LOG-LOSS: 0.5083084457797841, ROC-AUC: 0.7273708643765145                       \n",
      "SPACE:                                                                          \n",
      "{'max_depth': 8, 'predictionCol': 'prediction', 'subsample': 0.7, 'eval_metric': 'logloss', 'num_round': 100, 'nworkers': 1, 'nthread': 1, 'labelCol': 'label', 'featuresCol': 'features', 'silent': 0, 'objective': 'binary:logistic', 'gamma': 0.2, 'min_child_weight': 1.5, 'colsample_bytree': 0.9, 'eta': 0.3}\n",
      "LOG-LOSS: 0.5093638056484588, ROC-AUC: 0.7262797609455514                       \n",
      "SPACE:                                                                          \n",
      "{'max_depth': 8, 'predictionCol': 'prediction', 'subsample': 0.8, 'eval_metric': 'logloss', 'num_round': 100, 'nworkers': 1, 'nthread': 1, 'labelCol': 'label', 'featuresCol': 'features', 'silent': 0, 'objective': 'binary:logistic', 'gamma': 0.4, 'min_child_weight': 1.0, 'colsample_bytree': 1.0, 'eta': 0.3}\n",
      "LOG-LOSS: 0.5092653969062598, ROC-AUC: 0.7264024371414054                       \n",
      "SPACE:                                                                           \n",
      "{'max_depth': 8, 'predictionCol': 'prediction', 'subsample': 1.0, 'eval_metric': 'logloss', 'num_round': 100, 'nworkers': 1, 'nthread': 1, 'labelCol': 'label', 'featuresCol': 'features', 'silent': 0, 'objective': 'binary:logistic', 'gamma': 0.0, 'min_child_weight': 1.0, 'colsample_bytree': 1.0, 'eta': 0.3}\n",
      "LOG-LOSS: 0.508170175299747, ROC-AUC: 0.7269851548510523                         \n",
      "SPACE:                                                                           \n",
      "{'max_depth': 4, 'predictionCol': 'prediction', 'subsample': 0.7, 'eval_metric': 'logloss', 'num_round': 100, 'nworkers': 1, 'nthread': 1, 'labelCol': 'label', 'featuresCol': 'features', 'silent': 0, 'objective': 'binary:logistic', 'gamma': 0.0, 'min_child_weight': 1.5, 'colsample_bytree': 0.8, 'eta': 0.3}\n",
      "LOG-LOSS: 0.5068123495080884, ROC-AUC: 0.7300566408402581                        \n",
      "SPACE:                                                                           \n",
      "{'max_depth': 4, 'predictionCol': 'prediction', 'subsample': 0.7, 'eval_metric': 'logloss', 'num_round': 100, 'nworkers': 1, 'nthread': 1, 'labelCol': 'label', 'featuresCol': 'features', 'silent': 0, 'objective': 'binary:logistic', 'gamma': 0.0, 'min_child_weight': 1.0, 'colsample_bytree': 0.8, 'eta': 0.3}\n",
      "LOG-LOSS: 0.5064945575808849, ROC-AUC: 0.7304041720232352                        \n",
      "SPACE:                                                                           \n",
      "{'max_depth': 8, 'predictionCol': 'prediction', 'subsample': 0.7, 'eval_metric': 'logloss', 'num_round': 100, 'nworkers': 1, 'nthread': 1, 'labelCol': 'label', 'featuresCol': 'features', 'silent': 0, 'objective': 'binary:logistic', 'gamma': 0.4, 'min_child_weight': 2.0, 'colsample_bytree': 0.7, 'eta': 0.3}\n",
      "LOG-LOSS: 0.5095892878865619, ROC-AUC: 0.7257804950281177                        \n",
      "SPACE:                                                                           \n",
      "{'max_depth': 8, 'predictionCol': 'prediction', 'subsample': 0.9, 'eval_metric': 'logloss', 'num_round': 100, 'nworkers': 1, 'nthread': 1, 'labelCol': 'label', 'featuresCol': 'features', 'silent': 0, 'objective': 'binary:logistic', 'gamma': 0.2, 'min_child_weight': 1.0, 'colsample_bytree': 0.9, 'eta': 0.3}\n",
      "LOG-LOSS: 0.5098605790481813, ROC-AUC: 0.725547521989968                         \n",
      "SPACE:                                                                           \n",
      "{'max_depth': 4, 'predictionCol': 'prediction', 'subsample': 0.7, 'eval_metric': 'logloss', 'num_round': 100, 'nworkers': 1, 'nthread': 1, 'labelCol': 'label', 'featuresCol': 'features', 'silent': 0, 'objective': 'binary:logistic', 'gamma': 0.9, 'min_child_weight': 1.0, 'colsample_bytree': 0.9, 'eta': 0.3}\n",
      "LOG-LOSS: 0.5066663871698981, ROC-AUC: 0.7300031742080386                        \n",
      "SPACE:                                                                           \n",
      "{'max_depth': 6, 'predictionCol': 'prediction', 'subsample': 0.7, 'eval_metric': 'logloss', 'num_round': 100, 'nworkers': 1, 'nthread': 1, 'labelCol': 'label', 'featuresCol': 'features', 'silent': 0, 'objective': 'binary:logistic', 'gamma': 0.4, 'min_child_weight': 1.5, 'colsample_bytree': 1.0, 'eta': 0.3}\n",
      "LOG-LOSS: 0.5072399938566471, ROC-AUC: 0.7291777317814826                        \n",
      "SPACE:                                                                           \n",
      "{'max_depth': 8, 'predictionCol': 'prediction', 'subsample': 1.0, 'eval_metric': 'logloss', 'num_round': 100, 'nworkers': 1, 'nthread': 1, 'labelCol': 'label', 'featuresCol': 'features', 'silent': 0, 'objective': 'binary:logistic', 'gamma': 0.2, 'min_child_weight': 2.0, 'colsample_bytree': 0.8, 'eta': 0.3}\n"
     ]
    },
    {
     "name": "stdout",
     "output_type": "stream",
     "text": [
      "LOG-LOSS: 0.5089029444724141, ROC-AUC: 0.726677086951242                         \n",
      "SPACE:                                                                           \n",
      "{'max_depth': 6, 'predictionCol': 'prediction', 'subsample': 0.9, 'eval_metric': 'logloss', 'num_round': 100, 'nworkers': 1, 'nthread': 1, 'labelCol': 'label', 'featuresCol': 'features', 'silent': 0, 'objective': 'binary:logistic', 'gamma': 0.9, 'min_child_weight': 1.0, 'colsample_bytree': 0.7, 'eta': 0.3}\n",
      "LOG-LOSS: 0.5064457483378872, ROC-AUC: 0.7301618595661555                        \n",
      "SPACE:                                                                           \n",
      "{'max_depth': 8, 'predictionCol': 'prediction', 'subsample': 0.9, 'eval_metric': 'logloss', 'num_round': 100, 'nworkers': 1, 'nthread': 1, 'labelCol': 'label', 'featuresCol': 'features', 'silent': 0, 'objective': 'binary:logistic', 'gamma': 0.4, 'min_child_weight': 2.0, 'colsample_bytree': 0.8, 'eta': 0.3}\n",
      "LOG-LOSS: 0.5082453371659044, ROC-AUC: 0.7272854302695155                        \n",
      "100%|██████████| 20/20 [08:16<00:00, 24.81s/trial, best loss: 0.5062359215479508]\n"
     ]
    }
   ],
   "source": [
    "trials = Trials()\n",
    "best = fmin(\n",
    "    fn=objective,\n",
    "    space=space,\n",
    "    algo=tpe.suggest,\n",
    "    max_evals=20,\n",
    "    trials=trials\n",
    ")"
   ]
  },
  {
   "cell_type": "code",
   "execution_count": 23,
   "metadata": {},
   "outputs": [
    {
     "data": {
      "text/plain": [
       "{'colsample_bytree': 2,\n",
       " 'gamma': 1,\n",
       " 'max_depth': 1,\n",
       " 'min_child_weight': 2,\n",
       " 'subsample': 1}"
      ]
     },
     "execution_count": 23,
     "metadata": {},
     "output_type": "execute_result"
    }
   ],
   "source": [
    "best"
   ]
  },
  {
   "cell_type": "code",
   "execution_count": 24,
   "metadata": {},
   "outputs": [],
   "source": [
    "max_depth = max_depth_choice[best['max_depth']]\n",
    "min_child_weight = min_child_weight_choice[best['min_child_weight']]\n",
    "subsample = subsample_choice[best['subsample']]\n",
    "colsample_bytree = colsample_bytree_choice[best['colsample_bytree']]\n",
    "gamma = gamma_choice[best['gamma']]"
   ]
  },
  {
   "cell_type": "code",
   "execution_count": 25,
   "metadata": {},
   "outputs": [
    {
     "data": {
      "text/plain": [
       "(6, 2.0, 0.8, 0.9, 0.2)"
      ]
     },
     "execution_count": 25,
     "metadata": {},
     "output_type": "execute_result"
    }
   ],
   "source": [
    "max_depth, min_child_weight, subsample, colsample_bytree, gamma"
   ]
  },
  {
   "cell_type": "markdown",
   "metadata": {},
   "source": [
    "### Tune regularization parameters\n",
    "\n",
    "> Tune regularization parameters (lambda, alpha) for xgboost which can help reduce model complexity and enhance performance."
   ]
  },
  {
   "cell_type": "code",
   "execution_count": 26,
   "metadata": {},
   "outputs": [],
   "source": [
    "alpha_choice = [0.0, 0.1, 0.4, 0.9, 1.6, 2.5]\n",
    "lambda_choice = [0.0, 0.1, 0.4, 0.9, 1.6, 2.5]\n",
    "\n",
    "space = {\n",
    "    # Optimize\n",
    "    'alpha': hp.choice('alpha', alpha_choice),\n",
    "    'reg_lambda': hp.choice('lambda', lambda_choice),\n",
    "    \n",
    "    # Fixed    \n",
    "    'num_round': num_round,\n",
    "    'eta': eta,\n",
    "    'max_depth': max_depth,\n",
    "    'min_child_weight': min_child_weight,\n",
    "    'subsample': subsample,\n",
    "    'colsample_bytree': colsample_bytree,\n",
    "    'gamma': gamma,\n",
    "    \n",
    "    **static_params\n",
    "}"
   ]
  },
  {
   "cell_type": "code",
   "execution_count": 27,
   "metadata": {},
   "outputs": [
    {
     "name": "stdout",
     "output_type": "stream",
     "text": [
      "SPACE:                                                \n",
      "{'max_depth': 6, 'predictionCol': 'prediction', 'alpha': 0.0, 'subsample': 0.8, 'eval_metric': 'logloss', 'num_round': 100, 'nworkers': 1, 'nthread': 1, 'labelCol': 'label', 'featuresCol': 'features', 'silent': 0, 'objective': 'binary:logistic', 'gamma': 0.2, 'min_child_weight': 2.0, 'lambda': 2.5, 'colsample_bytree': 0.9, 'eta': 0.3}\n",
      "LOG-LOSS: 0.5061853844614433, ROC-AUC: 0.7306568487694753\n",
      "SPACE:                                                                          \n",
      "{'max_depth': 6, 'predictionCol': 'prediction', 'alpha': 1.6, 'subsample': 0.8, 'eval_metric': 'logloss', 'num_round': 100, 'nworkers': 1, 'nthread': 1, 'labelCol': 'label', 'featuresCol': 'features', 'silent': 0, 'objective': 'binary:logistic', 'gamma': 0.2, 'min_child_weight': 2.0, 'lambda': 0.0, 'colsample_bytree': 0.9, 'eta': 0.3}\n",
      "LOG-LOSS: 0.5068895761667104, ROC-AUC: 0.7297421174138728                       \n",
      "SPACE:                                                                          \n",
      "{'max_depth': 6, 'predictionCol': 'prediction', 'alpha': 0.4, 'subsample': 0.8, 'eval_metric': 'logloss', 'num_round': 100, 'nworkers': 1, 'nthread': 1, 'labelCol': 'label', 'featuresCol': 'features', 'silent': 0, 'objective': 'binary:logistic', 'gamma': 0.2, 'min_child_weight': 2.0, 'lambda': 0.0, 'colsample_bytree': 0.9, 'eta': 0.3}\n",
      "LOG-LOSS: 0.5068137455789846, ROC-AUC: 0.7297034728710208                       \n",
      "SPACE:                                                                          \n",
      "{'max_depth': 6, 'predictionCol': 'prediction', 'alpha': 1.6, 'subsample': 0.8, 'eval_metric': 'logloss', 'num_round': 100, 'nworkers': 1, 'nthread': 1, 'labelCol': 'label', 'featuresCol': 'features', 'silent': 0, 'objective': 'binary:logistic', 'gamma': 0.2, 'min_child_weight': 2.0, 'lambda': 1.6, 'colsample_bytree': 0.9, 'eta': 0.3}\n",
      "LOG-LOSS: 0.5059516007639911, ROC-AUC: 0.7309250700230062                       \n",
      "SPACE:                                                                          \n",
      "{'max_depth': 6, 'predictionCol': 'prediction', 'alpha': 0.1, 'subsample': 0.8, 'eval_metric': 'logloss', 'num_round': 100, 'nworkers': 1, 'nthread': 1, 'labelCol': 'label', 'featuresCol': 'features', 'silent': 0, 'objective': 'binary:logistic', 'gamma': 0.2, 'min_child_weight': 2.0, 'lambda': 2.5, 'colsample_bytree': 0.9, 'eta': 0.3}\n",
      "LOG-LOSS: 0.5060343732764635, ROC-AUC: 0.7310555695233728                       \n",
      "SPACE:                                                                          \n",
      "{'max_depth': 6, 'predictionCol': 'prediction', 'alpha': 0.9, 'subsample': 0.8, 'eval_metric': 'logloss', 'num_round': 100, 'nworkers': 1, 'nthread': 1, 'labelCol': 'label', 'featuresCol': 'features', 'silent': 0, 'objective': 'binary:logistic', 'gamma': 0.2, 'min_child_weight': 2.0, 'lambda': 1.6, 'colsample_bytree': 0.9, 'eta': 0.3}\n",
      "LOG-LOSS: 0.5059736850428131, ROC-AUC: 0.731245426733328                        \n",
      "SPACE:                                                                          \n",
      "{'max_depth': 6, 'predictionCol': 'prediction', 'alpha': 0.1, 'subsample': 0.8, 'eval_metric': 'logloss', 'num_round': 100, 'nworkers': 1, 'nthread': 1, 'labelCol': 'label', 'featuresCol': 'features', 'silent': 0, 'objective': 'binary:logistic', 'gamma': 0.2, 'min_child_weight': 2.0, 'lambda': 2.5, 'colsample_bytree': 0.9, 'eta': 0.3}\n",
      "LOG-LOSS: 0.5060343732764635, ROC-AUC: 0.7310555695233725                       \n",
      "SPACE:                                                                          \n",
      "{'max_depth': 6, 'predictionCol': 'prediction', 'alpha': 0.0, 'subsample': 0.8, 'eval_metric': 'logloss', 'num_round': 100, 'nworkers': 1, 'nthread': 1, 'labelCol': 'label', 'featuresCol': 'features', 'silent': 0, 'objective': 'binary:logistic', 'gamma': 0.2, 'min_child_weight': 2.0, 'lambda': 0.4, 'colsample_bytree': 0.9, 'eta': 0.3}\n",
      "LOG-LOSS: 0.50696255059605, ROC-AUC: 0.7295481703552396                         \n",
      "SPACE:                                                                          \n",
      "{'max_depth': 6, 'predictionCol': 'prediction', 'alpha': 0.4, 'subsample': 0.8, 'eval_metric': 'logloss', 'num_round': 100, 'nworkers': 1, 'nthread': 1, 'labelCol': 'label', 'featuresCol': 'features', 'silent': 0, 'objective': 'binary:logistic', 'gamma': 0.2, 'min_child_weight': 2.0, 'lambda': 0.9, 'colsample_bytree': 0.9, 'eta': 0.3}\n",
      "LOG-LOSS: 0.5066628696189058, ROC-AUC: 0.7304510347923985                       \n",
      "SPACE:                                                                          \n",
      "{'max_depth': 6, 'predictionCol': 'prediction', 'alpha': 1.6, 'subsample': 0.8, 'eval_metric': 'logloss', 'num_round': 100, 'nworkers': 1, 'nthread': 1, 'labelCol': 'label', 'featuresCol': 'features', 'silent': 0, 'objective': 'binary:logistic', 'gamma': 0.2, 'min_child_weight': 2.0, 'lambda': 0.4, 'colsample_bytree': 0.9, 'eta': 0.3}\n",
      "LOG-LOSS: 0.5065804043637097, ROC-AUC: 0.7303687908829555                       \n",
      "100%|██████████| 10/10 [04:14<00:00, 25.48s/trial, best loss: 0.5059516007639911]\n"
     ]
    }
   ],
   "source": [
    "trials = Trials()\n",
    "best = fmin(\n",
    "    fn=objective,\n",
    "    space=space,\n",
    "    algo=tpe.suggest,\n",
    "    max_evals=10,\n",
    "    trials=trials\n",
    ")"
   ]
  },
  {
   "cell_type": "code",
   "execution_count": 28,
   "metadata": {},
   "outputs": [
    {
     "data": {
      "text/plain": [
       "{'alpha': 4, 'lambda': 4}"
      ]
     },
     "execution_count": 28,
     "metadata": {},
     "output_type": "execute_result"
    }
   ],
   "source": [
    "best"
   ]
  },
  {
   "cell_type": "code",
   "execution_count": 29,
   "metadata": {},
   "outputs": [],
   "source": [
    "alpha = alpha_choice[best['alpha']]\n",
    "reg_lambda = lambda_choice[best['lambda']]"
   ]
  },
  {
   "cell_type": "code",
   "execution_count": 30,
   "metadata": {},
   "outputs": [
    {
     "data": {
      "text/plain": [
       "(1.6, 1.6)"
      ]
     },
     "execution_count": 30,
     "metadata": {},
     "output_type": "execute_result"
    }
   ],
   "source": [
    "alpha, reg_lambda"
   ]
  },
  {
   "cell_type": "markdown",
   "metadata": {},
   "source": [
    "### Lower the learning rate and decide the optimal parameters"
   ]
  },
  {
   "cell_type": "code",
   "execution_count": null,
   "metadata": {},
   "outputs": [],
   "source": [
    "######################################\n",
    "######### YOUR CODE HERE #############\n",
    "######################################"
   ]
  },
  {
   "cell_type": "markdown",
   "metadata": {},
   "source": [
    "### Validation"
   ]
  },
  {
   "cell_type": "code",
   "execution_count": 31,
   "metadata": {},
   "outputs": [],
   "source": [
    "xgb_tuned_params = {\n",
    "    'num_round': num_round,\n",
    "    'eta': eta,\n",
    "    'max_depth': max_depth,\n",
    "    'min_child_weight': min_child_weight,\n",
    "    'subsample': subsample,\n",
    "    'colsample_bytree': colsample_bytree,\n",
    "    'gamma': gamma,\n",
    "    'alpha': alpha,\n",
    "    'reg_lambda': reg_lambda,\n",
    "    **static_params\n",
    "}\n",
    "\n",
    "xgb_tuned_model = XGBoostEstimator(**xgb_tuned_params).fit(train_df)"
   ]
  },
  {
   "cell_type": "code",
   "execution_count": 57,
   "metadata": {},
   "outputs": [
    {
     "data": {
      "text/plain": [
       "{'alpha': 1.6,\n",
       " 'colsample_bytree': 0.9,\n",
       " 'eta': 0.3,\n",
       " 'eval_metric': 'logloss',\n",
       " 'featuresCol': 'features',\n",
       " 'gamma': 0.2,\n",
       " 'labelCol': 'label',\n",
       " 'max_depth': 6,\n",
       " 'min_child_weight': 2.0,\n",
       " 'nthread': 1,\n",
       " 'num_round': 100,\n",
       " 'nworkers': 1,\n",
       " 'objective': 'binary:logistic',\n",
       " 'predictionCol': 'prediction',\n",
       " 'reg_lambda': 1.6,\n",
       " 'silent': 0,\n",
       " 'subsample': 0.8}"
      ]
     },
     "execution_count": 57,
     "metadata": {},
     "output_type": "execute_result"
    }
   ],
   "source": [
    "xgb_tuned_params"
   ]
  },
  {
   "cell_type": "code",
   "execution_count": 32,
   "metadata": {},
   "outputs": [
    {
     "data": {
      "text/plain": [
       "0.7309250700230058"
      ]
     },
     "execution_count": 32,
     "metadata": {},
     "output_type": "execute_result"
    }
   ],
   "source": [
    "xgb_tuned_rocauc = rocauc(xgb_tuned_model, val_df, probabilities_col='probabilities')\n",
    "xgb_tuned_rocauc"
   ]
  },
  {
   "cell_type": "code",
   "execution_count": 33,
   "metadata": {},
   "outputs": [],
   "source": [
    "xgb_tuned_test_metrics = {\n",
    "    'logloss': logloss(xgb_tuned_model, test_df, probabilities_col='probabilities'),\n",
    "    'rocauc': rocauc(xgb_tuned_model, test_df, probabilities_col='probabilities')\n",
    "}\n",
    "\n",
    "all_metrics['xgb tuned'] = xgb_tuned_test_metrics"
   ]
  },
  {
   "cell_type": "code",
   "execution_count": 34,
   "metadata": {},
   "outputs": [
    {
     "data": {
      "text/html": [
       "<div>\n",
       "<style scoped>\n",
       "    .dataframe tbody tr th:only-of-type {\n",
       "        vertical-align: middle;\n",
       "    }\n",
       "\n",
       "    .dataframe tbody tr th {\n",
       "        vertical-align: top;\n",
       "    }\n",
       "\n",
       "    .dataframe thead th {\n",
       "        text-align: right;\n",
       "    }\n",
       "</style>\n",
       "<table border=\"1\" class=\"dataframe\">\n",
       "  <thead>\n",
       "    <tr style=\"text-align: right;\">\n",
       "      <th></th>\n",
       "      <th>metric</th>\n",
       "      <th>xgb tuned ate %</th>\n",
       "    </tr>\n",
       "  </thead>\n",
       "  <tbody>\n",
       "    <tr>\n",
       "      <th>0</th>\n",
       "      <td>logloss</td>\n",
       "      <td>-1.407397</td>\n",
       "    </tr>\n",
       "    <tr>\n",
       "      <th>1</th>\n",
       "      <td>rocauc</td>\n",
       "      <td>1.306159</td>\n",
       "    </tr>\n",
       "  </tbody>\n",
       "</table>\n",
       "</div>"
      ],
      "text/plain": [
       "    metric  xgb tuned ate %\n",
       "0  logloss        -1.407397\n",
       "1   rocauc         1.306159"
      ]
     },
     "execution_count": 34,
     "metadata": {},
     "output_type": "execute_result"
    }
   ],
   "source": [
    "get_ate(all_metrics, CONTROL_NAME)"
   ]
  },
  {
   "cell_type": "markdown",
   "metadata": {},
   "source": [
    "---\n",
    "## LogisticRegression Tuning\n",
    "\n",
    "Подберем гиперпараметры для логрега из предыдущих практик"
   ]
  },
  {
   "cell_type": "code",
   "execution_count": 35,
   "metadata": {},
   "outputs": [],
   "source": [
    "from pyspark.ml.classification import LogisticRegression"
   ]
  },
  {
   "cell_type": "code",
   "execution_count": 36,
   "metadata": {},
   "outputs": [],
   "source": [
    "lr_baseline_params = {\n",
    "    'maxIter': 10,\n",
    "    'regParam': 0.0,\n",
    "    'elasticNetParam': 0.0,\n",
    "    'tol': 1e-06\n",
    "}"
   ]
  },
  {
   "cell_type": "code",
   "execution_count": 37,
   "metadata": {},
   "outputs": [],
   "source": [
    "lr_model = LogisticRegression(**lr_baseline_params).fit(train_df)"
   ]
  },
  {
   "cell_type": "code",
   "execution_count": 38,
   "metadata": {},
   "outputs": [
    {
     "data": {
      "text/plain": [
       "0.6976546576855418"
      ]
     },
     "execution_count": 38,
     "metadata": {},
     "output_type": "execute_result"
    }
   ],
   "source": [
    "lr_baseline_rocauc = rocauc(lr_model, val_df, probabilities_col='probability')\n",
    "lr_baseline_rocauc"
   ]
  },
  {
   "cell_type": "code",
   "execution_count": 39,
   "metadata": {},
   "outputs": [],
   "source": [
    "lr_test_metrics = {\n",
    "    'logloss': logloss(lr_model, test_df, probabilities_col='probability'),\n",
    "    'rocauc': rocauc(lr_model, test_df, probabilities_col='probability')\n",
    "}\n",
    "\n",
    "all_metrics['lr'] = lr_test_metrics"
   ]
  },
  {
   "cell_type": "code",
   "execution_count": 40,
   "metadata": {},
   "outputs": [],
   "source": [
    "def objective(space):\n",
    "    model = LogisticRegression(**space).fit(train_df)\n",
    "    log_loss = logloss(model, val_df, probabilities_col='probability')\n",
    "    roc_auc = rocauc(model, val_df, probabilities_col='probability')\n",
    "    print('LOG-LOSS: {}, ROC-AUC: {}'.format(log_loss, roc_auc))\n",
    "    return {'loss': log_loss, 'rocauc': roc_auc, 'status': STATUS_OK }"
   ]
  },
  {
   "cell_type": "code",
   "execution_count": 41,
   "metadata": {},
   "outputs": [],
   "source": [
    "max_iter_choice = [10, 20, 30]\n",
    "reg_param_choice = [0.0, 0.1, 0.4, 0.9, 1.0]\n",
    "elastic_net_param_choice = [0.0, 0.1, 0.4, 0.9, 1.0]\n",
    "\n",
    "space = {\n",
    "    'maxIter': hp.choice('max_iter', max_iter_choice),\n",
    "    'regParam': hp.choice('reg_param', reg_param_choice),\n",
    "    'elasticNetParam': hp.choice('elastic_net_param', elastic_net_param_choice)\n",
    "}"
   ]
  },
  {
   "cell_type": "code",
   "execution_count": 42,
   "metadata": {},
   "outputs": [
    {
     "name": "stdout",
     "output_type": "stream",
     "text": [
      "LOG-LOSS: 0.5758118339516891, ROC-AUC: 0.5            \n",
      "LOG-LOSS: 0.5675445996191201, ROC-AUC: 0.6594224016327341                       \n",
      "LOG-LOSS: 0.5758118339516891, ROC-AUC: 0.5                                      \n",
      "LOG-LOSS: 0.5758118339516891, ROC-AUC: 0.5                                      \n",
      "LOG-LOSS: 0.5758118339516891, ROC-AUC: 0.5                                      \n",
      "LOG-LOSS: 0.5588103527489803, ROC-AUC: 0.6942729172782734                       \n",
      "LOG-LOSS: 0.5758118339516891, ROC-AUC: 0.5                                      \n",
      "LOG-LOSS: 0.5758118339516891, ROC-AUC: 0.5                                      \n",
      "LOG-LOSS: 0.5758118339516891, ROC-AUC: 0.5                                      \n",
      "LOG-LOSS: 0.5758118339516891, ROC-AUC: 0.5                                      \n",
      "LOG-LOSS: 0.5357839771359361, ROC-AUC: 0.6973180552409294                        \n",
      "LOG-LOSS: 0.5758118339516891, ROC-AUC: 0.5                                       \n",
      "LOG-LOSS: 0.5758118339516891, ROC-AUC: 0.5                                       \n",
      "LOG-LOSS: 0.5357839771359361, ROC-AUC: 0.6973180552409294                        \n",
      "LOG-LOSS: 0.5487165499452632, ROC-AUC: 0.6860356865593137                        \n",
      "LOG-LOSS: 0.5758118339516891, ROC-AUC: 0.5                                       \n",
      "LOG-LOSS: 0.5576498622437385, ROC-AUC: 0.6942911376215581                        \n",
      "LOG-LOSS: 0.5758118339516891, ROC-AUC: 0.5                                       \n",
      "LOG-LOSS: 0.5357839771359361, ROC-AUC: 0.6973180552409293                        \n",
      "LOG-LOSS: 0.5758118339516891, ROC-AUC: 0.5                                       \n",
      "LOG-LOSS: 0.5357839771372375, ROC-AUC: 0.6973180552409294                        \n",
      "LOG-LOSS: 0.5357839771372375, ROC-AUC: 0.6973180552409294                        \n",
      "LOG-LOSS: 0.5357839771372375, ROC-AUC: 0.6973180552409293                        \n",
      "LOG-LOSS: 0.5357839771359361, ROC-AUC: 0.6973180552409292                        \n",
      "LOG-LOSS: 0.5357839771372375, ROC-AUC: 0.6973180552409296                        \n",
      "LOG-LOSS: 0.5357839771372375, ROC-AUC: 0.6973180552409289                        \n",
      "LOG-LOSS: 0.5335157659192855, ROC-AUC: 0.6976546576855418                        \n",
      "LOG-LOSS: 0.5335157659192855, ROC-AUC: 0.6976546576855414                        \n",
      "LOG-LOSS: 0.5335157659192855, ROC-AUC: 0.6976546576855414                        \n",
      "LOG-LOSS: 0.5335157659192855, ROC-AUC: 0.6976546576855411                        \n",
      "100%|██████████| 30/30 [01:14<00:00,  2.49s/trial, best loss: 0.5335157659192855]\n"
     ]
    }
   ],
   "source": [
    "trials = Trials()\n",
    "best = fmin(\n",
    "    fn=objective,\n",
    "    space=space,\n",
    "    algo=tpe.suggest,\n",
    "    max_evals=30,\n",
    "    trials=trials\n",
    ")"
   ]
  },
  {
   "cell_type": "code",
   "execution_count": 43,
   "metadata": {},
   "outputs": [
    {
     "data": {
      "text/plain": [
       "{'elastic_net_param': 0, 'max_iter': 0, 'reg_param': 0}"
      ]
     },
     "execution_count": 43,
     "metadata": {},
     "output_type": "execute_result"
    }
   ],
   "source": [
    "best"
   ]
  },
  {
   "cell_type": "code",
   "execution_count": 44,
   "metadata": {},
   "outputs": [],
   "source": [
    "max_iter = max_iter_choice[best['max_iter']]\n",
    "reg_param = reg_param_choice[best['reg_param']]\n",
    "elastic_net_param = elastic_net_param_choice[best['elastic_net_param']]"
   ]
  },
  {
   "cell_type": "code",
   "execution_count": 45,
   "metadata": {},
   "outputs": [
    {
     "data": {
      "text/plain": [
       "(10, 0.0, 0.0)"
      ]
     },
     "execution_count": 45,
     "metadata": {},
     "output_type": "execute_result"
    }
   ],
   "source": [
    "max_iter, reg_param, elastic_net_param"
   ]
  },
  {
   "cell_type": "code",
   "execution_count": 46,
   "metadata": {},
   "outputs": [],
   "source": [
    "lr_tuned_params = {\n",
    "    'maxIter': max_iter,\n",
    "    'regParam': reg_param,\n",
    "    'elasticNetParam': elastic_net_param\n",
    "}"
   ]
  },
  {
   "cell_type": "code",
   "execution_count": 47,
   "metadata": {},
   "outputs": [],
   "source": [
    "lr_tuned_model = LogisticRegression(**lr_tuned_params).fit(train_df)"
   ]
  },
  {
   "cell_type": "code",
   "execution_count": 48,
   "metadata": {},
   "outputs": [
    {
     "data": {
      "text/plain": [
       "0.6976546576855414"
      ]
     },
     "execution_count": 48,
     "metadata": {},
     "output_type": "execute_result"
    }
   ],
   "source": [
    "lr_tuned_rocauc = rocauc(lr_tuned_model, val_df, probabilities_col='probability')\n",
    "lr_tuned_rocauc"
   ]
  },
  {
   "cell_type": "code",
   "execution_count": 49,
   "metadata": {},
   "outputs": [],
   "source": [
    "lr_tuned_test_metrics = {\n",
    "    'logloss': logloss(lr_tuned_model, test_df, probabilities_col='probability'),\n",
    "    'rocauc': rocauc(lr_tuned_model, test_df, probabilities_col='probability')\n",
    "}\n",
    "\n",
    "all_metrics['lr tuned'] = lr_tuned_test_metrics"
   ]
  },
  {
   "cell_type": "code",
   "execution_count": 50,
   "metadata": {},
   "outputs": [
    {
     "data": {
      "text/html": [
       "<div>\n",
       "<style scoped>\n",
       "    .dataframe tbody tr th:only-of-type {\n",
       "        vertical-align: middle;\n",
       "    }\n",
       "\n",
       "    .dataframe tbody tr th {\n",
       "        vertical-align: top;\n",
       "    }\n",
       "\n",
       "    .dataframe thead th {\n",
       "        text-align: right;\n",
       "    }\n",
       "</style>\n",
       "<table border=\"1\" class=\"dataframe\">\n",
       "  <thead>\n",
       "    <tr style=\"text-align: right;\">\n",
       "      <th></th>\n",
       "      <th>lr ate %</th>\n",
       "      <th>lr tuned ate %</th>\n",
       "      <th>metric</th>\n",
       "      <th>xgb tuned ate %</th>\n",
       "    </tr>\n",
       "  </thead>\n",
       "  <tbody>\n",
       "    <tr>\n",
       "      <th>0</th>\n",
       "      <td>4.259000</td>\n",
       "      <td>4.259000</td>\n",
       "      <td>logloss</td>\n",
       "      <td>-1.407397</td>\n",
       "    </tr>\n",
       "    <tr>\n",
       "      <th>1</th>\n",
       "      <td>-3.720112</td>\n",
       "      <td>-3.720112</td>\n",
       "      <td>rocauc</td>\n",
       "      <td>1.306159</td>\n",
       "    </tr>\n",
       "  </tbody>\n",
       "</table>\n",
       "</div>"
      ],
      "text/plain": [
       "   lr ate %  lr tuned ate %   metric  xgb tuned ate %\n",
       "0  4.259000        4.259000  logloss        -1.407397\n",
       "1 -3.720112       -3.720112   rocauc         1.306159"
      ]
     },
     "execution_count": 50,
     "metadata": {},
     "output_type": "execute_result"
    }
   ],
   "source": [
    "get_ate(all_metrics, CONTROL_NAME)"
   ]
  },
  {
   "cell_type": "markdown",
   "metadata": {},
   "source": [
    "---\n",
    "## Optional [MongoTrials](https://hyperopt.github.io/hyperopt/scaleout/mongodb/)\n",
    "\n",
    "> For parallel search, hyperopt includes a MongoTrials implementation that supports asynchronous updates.\n",
    "\n",
    "**TLDR** Преимущества использования `MongoTrials`:\n",
    "* `MongoTrials` позволяет параллельно запускать несколько вычислений целевой функции\n",
    "* Динамический уровень параллелизма - можно добавлять/удалять воркеров, которые вычисляют целевую функцию\n",
    "* Все результаты сохраняются в БД - история запусков никуда не потеряется\n",
    "\n",
    "*За выполнение данного задания можно получить дополнительно +0.4 к итоговому баллу*"
   ]
  },
  {
   "cell_type": "markdown",
   "metadata": {},
   "source": [
    "### XGBoost Tuning"
   ]
  },
  {
   "cell_type": "code",
   "execution_count": null,
   "metadata": {},
   "outputs": [],
   "source": [
    "######################################\n",
    "######### YOUR CODE HERE #############\n",
    "######################################"
   ]
  },
  {
   "cell_type": "markdown",
   "metadata": {},
   "source": [
    "# Results\n",
    "\n",
    "Подведем итоги.\n",
    "\n",
    "Обучите модели с найденными (оптимальными) гиперпараметрами и сделайте справнение на отложенной выборке"
   ]
  },
  {
   "cell_type": "code",
   "execution_count": 51,
   "metadata": {},
   "outputs": [],
   "source": [
    "df = sqlContext.read.format(\"com.databricks.spark.csv\") \\\n",
    "    .option(\"delimiter\", \",\") \\\n",
    "    .option(\"header\", \"true\") \\\n",
    "    .option(\"inferSchema\", \"true\") \\\n",
    "    .load('file:///' + TRAIN_PATH)\n",
    "\n",
    "df = df.fillna(0, subset=num_columns)\n",
    "\n",
    "df = pipeline_model \\\n",
    "    .transform(df) \\\n",
    "    .select(F.col('_c0').alias('label'), 'features', 'id') \\\n",
    "    .cache()\n",
    "\n",
    "train_df, val_df, test_df = split_by_col(df, 'id', [0.8, 0.1, 0.1])"
   ]
  },
  {
   "cell_type": "code",
   "execution_count": 52,
   "metadata": {},
   "outputs": [],
   "source": [
    "all_metrics = {}"
   ]
  },
  {
   "cell_type": "code",
   "execution_count": 53,
   "metadata": {},
   "outputs": [],
   "source": [
    "baseline_model = XGBoostEstimator(**{**static_params, **baseline_params}).fit(train_df)\n",
    "all_metrics[CONTROL_NAME] = {\n",
    "    'logloss': logloss(baseline_model, test_df, probabilities_col='probabilities'),\n",
    "    'rocauc': rocauc(baseline_model, test_df, probabilities_col='probabilities')\n",
    "}"
   ]
  },
  {
   "cell_type": "code",
   "execution_count": 54,
   "metadata": {},
   "outputs": [],
   "source": [
    "xgb_tuned_model = XGBoostEstimator(**xgb_tuned_params).fit(train_df)\n",
    "all_metrics['xgb tuned'] = {\n",
    "    'logloss': logloss(xgb_tuned_model, test_df, probabilities_col='probabilities'),\n",
    "    'rocauc': rocauc(xgb_tuned_model, test_df, probabilities_col='probabilities')\n",
    "}"
   ]
  },
  {
   "cell_type": "code",
   "execution_count": 55,
   "metadata": {},
   "outputs": [],
   "source": [
    "lr_model = LogisticRegression(**lr_baseline_params).fit(train_df)\n",
    "all_metrics['lr'] = {\n",
    "    'logloss': logloss(lr_model, test_df, probabilities_col='probability'),\n",
    "    'rocauc': rocauc(lr_model, test_df, probabilities_col='probability')\n",
    "}"
   ]
  },
  {
   "cell_type": "code",
   "execution_count": 56,
   "metadata": {},
   "outputs": [],
   "source": [
    "lr_tuned_model = LogisticRegression(**lr_tuned_params).fit(train_df)\n",
    "all_metrics['lr tuned'] = {\n",
    "    'logloss': logloss(lr_tuned_model, test_df, probabilities_col='probability'),\n",
    "    'rocauc': rocauc(lr_tuned_model, test_df, probabilities_col='probability')\n",
    "}"
   ]
  },
  {
   "cell_type": "markdown",
   "metadata": {},
   "source": [
    "Итоговая таблица"
   ]
  },
  {
   "cell_type": "code",
   "execution_count": 58,
   "metadata": {},
   "outputs": [
    {
     "data": {
      "text/html": [
       "<div>\n",
       "<style scoped>\n",
       "    .dataframe tbody tr th:only-of-type {\n",
       "        vertical-align: middle;\n",
       "    }\n",
       "\n",
       "    .dataframe tbody tr th {\n",
       "        vertical-align: top;\n",
       "    }\n",
       "\n",
       "    .dataframe thead th {\n",
       "        text-align: right;\n",
       "    }\n",
       "</style>\n",
       "<table border=\"1\" class=\"dataframe\">\n",
       "  <thead>\n",
       "    <tr style=\"text-align: right;\">\n",
       "      <th></th>\n",
       "      <th>lr ate %</th>\n",
       "      <th>lr tuned ate %</th>\n",
       "      <th>metric</th>\n",
       "      <th>xgb tuned ate %</th>\n",
       "    </tr>\n",
       "  </thead>\n",
       "  <tbody>\n",
       "    <tr>\n",
       "      <th>0</th>\n",
       "      <td>3.215517</td>\n",
       "      <td>3.215517</td>\n",
       "      <td>logloss</td>\n",
       "      <td>-1.899988</td>\n",
       "    </tr>\n",
       "    <tr>\n",
       "      <th>1</th>\n",
       "      <td>-3.188346</td>\n",
       "      <td>-3.188346</td>\n",
       "      <td>rocauc</td>\n",
       "      <td>1.722296</td>\n",
       "    </tr>\n",
       "  </tbody>\n",
       "</table>\n",
       "</div>"
      ],
      "text/plain": [
       "   lr ate %  lr tuned ate %   metric  xgb tuned ate %\n",
       "0  3.215517        3.215517  logloss        -1.899988\n",
       "1 -3.188346       -3.188346   rocauc         1.722296"
      ]
     },
     "execution_count": 58,
     "metadata": {},
     "output_type": "execute_result"
    }
   ],
   "source": [
    "get_ate(all_metrics, CONTROL_NAME)"
   ]
  },
  {
   "cell_type": "code",
   "execution_count": 59,
   "metadata": {},
   "outputs": [
    {
     "data": {
      "text/plain": [
       "{'lr': {'logloss': 0.5302156399130152, 'rocauc': 0.7021411411153459},\n",
       " 'lr tuned': {'logloss': 0.5302156399130152, 'rocauc': 0.7021411411153458},\n",
       " 'xgb baseline': {'logloss': 0.5136976051971426, 'rocauc': 0.7252651031984296},\n",
       " 'xgb tuned': {'logloss': 0.5039374117544929, 'rocauc': 0.7377563163538979}}"
      ]
     },
     "execution_count": 59,
     "metadata": {},
     "output_type": "execute_result"
    }
   ],
   "source": [
    "all_metrics"
   ]
  }
 ],
 "metadata": {
  "kernelspec": {
   "display_name": "Python 3",
   "language": "python",
   "name": "python3"
  },
  "language_info": {
   "codemirror_mode": {
    "name": "ipython",
    "version": 3
   },
   "file_extension": ".py",
   "mimetype": "text/x-python",
   "name": "python",
   "nbconvert_exporter": "python",
   "pygments_lexer": "ipython3",
   "version": "3.5.6"
  },
  "toc": {
   "base_numbering": 1,
   "nav_menu": {},
   "number_sections": true,
   "sideBar": true,
   "skip_h1_title": false,
   "title_cell": "Table of Contents",
   "title_sidebar": "Contents",
   "toc_cell": true,
   "toc_position": {},
   "toc_section_display": true,
   "toc_window_display": true
  }
 },
 "nbformat": 4,
 "nbformat_minor": 2
}
